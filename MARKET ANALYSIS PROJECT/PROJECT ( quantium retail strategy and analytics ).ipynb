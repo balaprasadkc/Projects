{
 "cells": [
  {
   "cell_type": "markdown",
   "id": "51c676ce",
   "metadata": {},
   "source": [
    "# IMPORTING REQUIRED LIBRARIES"
   ]
  },
  {
   "cell_type": "code",
   "execution_count": 1,
   "id": "784a2461",
   "metadata": {},
   "outputs": [],
   "source": [
    "import pandas as pd\n",
    "import numpy as np\n",
    "import seaborn as sns\n",
    "from scipy.stats import pearsonr, t\n",
    "import matplotlib.pyplot as plt\n",
    "from scipy.stats import pearsonr, ttest_ind"
   ]
  },
  {
   "cell_type": "markdown",
   "id": "f989def9",
   "metadata": {},
   "source": [
    "# FETCHING THE DATASET"
   ]
  },
  {
   "cell_type": "code",
   "execution_count": 2,
   "id": "5139ef6f",
   "metadata": {},
   "outputs": [],
   "source": [
    "df = pd.read_csv('QVI_data.csv')"
   ]
  },
  {
   "cell_type": "markdown",
   "id": "e8c5fad2",
   "metadata": {},
   "source": [
    "# PERFORMING BASIC CHECKS"
   ]
  },
  {
   "cell_type": "code",
   "execution_count": 3,
   "id": "ed249622",
   "metadata": {},
   "outputs": [
    {
     "data": {
      "text/html": [
       "<div>\n",
       "<style scoped>\n",
       "    .dataframe tbody tr th:only-of-type {\n",
       "        vertical-align: middle;\n",
       "    }\n",
       "\n",
       "    .dataframe tbody tr th {\n",
       "        vertical-align: top;\n",
       "    }\n",
       "\n",
       "    .dataframe thead th {\n",
       "        text-align: right;\n",
       "    }\n",
       "</style>\n",
       "<table border=\"1\" class=\"dataframe\">\n",
       "  <thead>\n",
       "    <tr style=\"text-align: right;\">\n",
       "      <th></th>\n",
       "      <th>LYLTY_CARD_NBR</th>\n",
       "      <th>DATE</th>\n",
       "      <th>STORE_NBR</th>\n",
       "      <th>TXN_ID</th>\n",
       "      <th>PROD_NBR</th>\n",
       "      <th>PROD_NAME</th>\n",
       "      <th>PROD_QTY</th>\n",
       "      <th>TOT_SALES</th>\n",
       "      <th>PACK_SIZE</th>\n",
       "      <th>BRAND</th>\n",
       "      <th>LIFESTAGE</th>\n",
       "      <th>PREMIUM_CUSTOMER</th>\n",
       "    </tr>\n",
       "  </thead>\n",
       "  <tbody>\n",
       "    <tr>\n",
       "      <th>0</th>\n",
       "      <td>1000</td>\n",
       "      <td>2018-10-17</td>\n",
       "      <td>1</td>\n",
       "      <td>1</td>\n",
       "      <td>5</td>\n",
       "      <td>Natural Chip        Compny SeaSalt175g</td>\n",
       "      <td>2</td>\n",
       "      <td>6.0</td>\n",
       "      <td>175</td>\n",
       "      <td>NATURAL</td>\n",
       "      <td>YOUNG SINGLES/COUPLES</td>\n",
       "      <td>Premium</td>\n",
       "    </tr>\n",
       "    <tr>\n",
       "      <th>1</th>\n",
       "      <td>1002</td>\n",
       "      <td>2018-09-16</td>\n",
       "      <td>1</td>\n",
       "      <td>2</td>\n",
       "      <td>58</td>\n",
       "      <td>Red Rock Deli Chikn&amp;Garlic Aioli 150g</td>\n",
       "      <td>1</td>\n",
       "      <td>2.7</td>\n",
       "      <td>150</td>\n",
       "      <td>RRD</td>\n",
       "      <td>YOUNG SINGLES/COUPLES</td>\n",
       "      <td>Mainstream</td>\n",
       "    </tr>\n",
       "    <tr>\n",
       "      <th>2</th>\n",
       "      <td>1003</td>\n",
       "      <td>2019-03-07</td>\n",
       "      <td>1</td>\n",
       "      <td>3</td>\n",
       "      <td>52</td>\n",
       "      <td>Grain Waves Sour    Cream&amp;Chives 210G</td>\n",
       "      <td>1</td>\n",
       "      <td>3.6</td>\n",
       "      <td>210</td>\n",
       "      <td>GRNWVES</td>\n",
       "      <td>YOUNG FAMILIES</td>\n",
       "      <td>Budget</td>\n",
       "    </tr>\n",
       "    <tr>\n",
       "      <th>3</th>\n",
       "      <td>1003</td>\n",
       "      <td>2019-03-08</td>\n",
       "      <td>1</td>\n",
       "      <td>4</td>\n",
       "      <td>106</td>\n",
       "      <td>Natural ChipCo      Hony Soy Chckn175g</td>\n",
       "      <td>1</td>\n",
       "      <td>3.0</td>\n",
       "      <td>175</td>\n",
       "      <td>NATURAL</td>\n",
       "      <td>YOUNG FAMILIES</td>\n",
       "      <td>Budget</td>\n",
       "    </tr>\n",
       "    <tr>\n",
       "      <th>4</th>\n",
       "      <td>1004</td>\n",
       "      <td>2018-11-02</td>\n",
       "      <td>1</td>\n",
       "      <td>5</td>\n",
       "      <td>96</td>\n",
       "      <td>WW Original Stacked Chips 160g</td>\n",
       "      <td>1</td>\n",
       "      <td>1.9</td>\n",
       "      <td>160</td>\n",
       "      <td>WOOLWORTHS</td>\n",
       "      <td>OLDER SINGLES/COUPLES</td>\n",
       "      <td>Mainstream</td>\n",
       "    </tr>\n",
       "  </tbody>\n",
       "</table>\n",
       "</div>"
      ],
      "text/plain": [
       "   LYLTY_CARD_NBR        DATE  STORE_NBR  TXN_ID  PROD_NBR  \\\n",
       "0            1000  2018-10-17          1       1         5   \n",
       "1            1002  2018-09-16          1       2        58   \n",
       "2            1003  2019-03-07          1       3        52   \n",
       "3            1003  2019-03-08          1       4       106   \n",
       "4            1004  2018-11-02          1       5        96   \n",
       "\n",
       "                                PROD_NAME  PROD_QTY  TOT_SALES  PACK_SIZE  \\\n",
       "0  Natural Chip        Compny SeaSalt175g         2        6.0        175   \n",
       "1   Red Rock Deli Chikn&Garlic Aioli 150g         1        2.7        150   \n",
       "2   Grain Waves Sour    Cream&Chives 210G         1        3.6        210   \n",
       "3  Natural ChipCo      Hony Soy Chckn175g         1        3.0        175   \n",
       "4          WW Original Stacked Chips 160g         1        1.9        160   \n",
       "\n",
       "        BRAND              LIFESTAGE PREMIUM_CUSTOMER  \n",
       "0     NATURAL  YOUNG SINGLES/COUPLES          Premium  \n",
       "1         RRD  YOUNG SINGLES/COUPLES       Mainstream  \n",
       "2     GRNWVES         YOUNG FAMILIES           Budget  \n",
       "3     NATURAL         YOUNG FAMILIES           Budget  \n",
       "4  WOOLWORTHS  OLDER SINGLES/COUPLES       Mainstream  "
      ]
     },
     "execution_count": 3,
     "metadata": {},
     "output_type": "execute_result"
    }
   ],
   "source": [
    "df.head()"
   ]
  },
  {
   "cell_type": "code",
   "execution_count": 4,
   "id": "3fd45ab4",
   "metadata": {},
   "outputs": [
    {
     "name": "stdout",
     "output_type": "stream",
     "text": [
      "<class 'pandas.core.frame.DataFrame'>\n",
      "RangeIndex: 264834 entries, 0 to 264833\n",
      "Data columns (total 12 columns):\n",
      " #   Column            Non-Null Count   Dtype  \n",
      "---  ------            --------------   -----  \n",
      " 0   LYLTY_CARD_NBR    264834 non-null  int64  \n",
      " 1   DATE              264834 non-null  object \n",
      " 2   STORE_NBR         264834 non-null  int64  \n",
      " 3   TXN_ID            264834 non-null  int64  \n",
      " 4   PROD_NBR          264834 non-null  int64  \n",
      " 5   PROD_NAME         264834 non-null  object \n",
      " 6   PROD_QTY          264834 non-null  int64  \n",
      " 7   TOT_SALES         264834 non-null  float64\n",
      " 8   PACK_SIZE         264834 non-null  int64  \n",
      " 9   BRAND             264834 non-null  object \n",
      " 10  LIFESTAGE         264834 non-null  object \n",
      " 11  PREMIUM_CUSTOMER  264834 non-null  object \n",
      "dtypes: float64(1), int64(6), object(5)\n",
      "memory usage: 24.2+ MB\n"
     ]
    }
   ],
   "source": [
    "df.info()"
   ]
  },
  {
   "cell_type": "code",
   "execution_count": 5,
   "id": "6775a81e",
   "metadata": {},
   "outputs": [
    {
     "data": {
      "text/html": [
       "<div>\n",
       "<style scoped>\n",
       "    .dataframe tbody tr th:only-of-type {\n",
       "        vertical-align: middle;\n",
       "    }\n",
       "\n",
       "    .dataframe tbody tr th {\n",
       "        vertical-align: top;\n",
       "    }\n",
       "\n",
       "    .dataframe thead th {\n",
       "        text-align: right;\n",
       "    }\n",
       "</style>\n",
       "<table border=\"1\" class=\"dataframe\">\n",
       "  <thead>\n",
       "    <tr style=\"text-align: right;\">\n",
       "      <th></th>\n",
       "      <th>LYLTY_CARD_NBR</th>\n",
       "      <th>STORE_NBR</th>\n",
       "      <th>TXN_ID</th>\n",
       "      <th>PROD_NBR</th>\n",
       "      <th>PROD_QTY</th>\n",
       "      <th>TOT_SALES</th>\n",
       "      <th>PACK_SIZE</th>\n",
       "    </tr>\n",
       "  </thead>\n",
       "  <tbody>\n",
       "    <tr>\n",
       "      <th>count</th>\n",
       "      <td>2.648340e+05</td>\n",
       "      <td>264834.000000</td>\n",
       "      <td>2.648340e+05</td>\n",
       "      <td>264834.000000</td>\n",
       "      <td>264834.000000</td>\n",
       "      <td>264834.000000</td>\n",
       "      <td>264834.000000</td>\n",
       "    </tr>\n",
       "    <tr>\n",
       "      <th>mean</th>\n",
       "      <td>1.355488e+05</td>\n",
       "      <td>135.079423</td>\n",
       "      <td>1.351576e+05</td>\n",
       "      <td>56.583554</td>\n",
       "      <td>1.905813</td>\n",
       "      <td>7.299346</td>\n",
       "      <td>182.425512</td>\n",
       "    </tr>\n",
       "    <tr>\n",
       "      <th>std</th>\n",
       "      <td>8.057990e+04</td>\n",
       "      <td>76.784063</td>\n",
       "      <td>7.813292e+04</td>\n",
       "      <td>32.826444</td>\n",
       "      <td>0.343436</td>\n",
       "      <td>2.527241</td>\n",
       "      <td>64.325148</td>\n",
       "    </tr>\n",
       "    <tr>\n",
       "      <th>min</th>\n",
       "      <td>1.000000e+03</td>\n",
       "      <td>1.000000</td>\n",
       "      <td>1.000000e+00</td>\n",
       "      <td>1.000000</td>\n",
       "      <td>1.000000</td>\n",
       "      <td>1.500000</td>\n",
       "      <td>70.000000</td>\n",
       "    </tr>\n",
       "    <tr>\n",
       "      <th>25%</th>\n",
       "      <td>7.002100e+04</td>\n",
       "      <td>70.000000</td>\n",
       "      <td>6.760050e+04</td>\n",
       "      <td>28.000000</td>\n",
       "      <td>2.000000</td>\n",
       "      <td>5.400000</td>\n",
       "      <td>150.000000</td>\n",
       "    </tr>\n",
       "    <tr>\n",
       "      <th>50%</th>\n",
       "      <td>1.303570e+05</td>\n",
       "      <td>130.000000</td>\n",
       "      <td>1.351365e+05</td>\n",
       "      <td>56.000000</td>\n",
       "      <td>2.000000</td>\n",
       "      <td>7.400000</td>\n",
       "      <td>170.000000</td>\n",
       "    </tr>\n",
       "    <tr>\n",
       "      <th>75%</th>\n",
       "      <td>2.030940e+05</td>\n",
       "      <td>203.000000</td>\n",
       "      <td>2.026998e+05</td>\n",
       "      <td>85.000000</td>\n",
       "      <td>2.000000</td>\n",
       "      <td>9.200000</td>\n",
       "      <td>175.000000</td>\n",
       "    </tr>\n",
       "    <tr>\n",
       "      <th>max</th>\n",
       "      <td>2.373711e+06</td>\n",
       "      <td>272.000000</td>\n",
       "      <td>2.415841e+06</td>\n",
       "      <td>114.000000</td>\n",
       "      <td>5.000000</td>\n",
       "      <td>29.500000</td>\n",
       "      <td>380.000000</td>\n",
       "    </tr>\n",
       "  </tbody>\n",
       "</table>\n",
       "</div>"
      ],
      "text/plain": [
       "       LYLTY_CARD_NBR      STORE_NBR        TXN_ID       PROD_NBR  \\\n",
       "count    2.648340e+05  264834.000000  2.648340e+05  264834.000000   \n",
       "mean     1.355488e+05     135.079423  1.351576e+05      56.583554   \n",
       "std      8.057990e+04      76.784063  7.813292e+04      32.826444   \n",
       "min      1.000000e+03       1.000000  1.000000e+00       1.000000   \n",
       "25%      7.002100e+04      70.000000  6.760050e+04      28.000000   \n",
       "50%      1.303570e+05     130.000000  1.351365e+05      56.000000   \n",
       "75%      2.030940e+05     203.000000  2.026998e+05      85.000000   \n",
       "max      2.373711e+06     272.000000  2.415841e+06     114.000000   \n",
       "\n",
       "            PROD_QTY      TOT_SALES      PACK_SIZE  \n",
       "count  264834.000000  264834.000000  264834.000000  \n",
       "mean        1.905813       7.299346     182.425512  \n",
       "std         0.343436       2.527241      64.325148  \n",
       "min         1.000000       1.500000      70.000000  \n",
       "25%         2.000000       5.400000     150.000000  \n",
       "50%         2.000000       7.400000     170.000000  \n",
       "75%         2.000000       9.200000     175.000000  \n",
       "max         5.000000      29.500000     380.000000  "
      ]
     },
     "execution_count": 5,
     "metadata": {},
     "output_type": "execute_result"
    }
   ],
   "source": [
    "df.describe()"
   ]
  },
  {
   "cell_type": "code",
   "execution_count": 6,
   "id": "7b5dd51a",
   "metadata": {},
   "outputs": [
    {
     "data": {
      "text/plain": [
       "LYLTY_CARD_NBR      0\n",
       "DATE                0\n",
       "STORE_NBR           0\n",
       "TXN_ID              0\n",
       "PROD_NBR            0\n",
       "PROD_NAME           0\n",
       "PROD_QTY            0\n",
       "TOT_SALES           0\n",
       "PACK_SIZE           0\n",
       "BRAND               0\n",
       "LIFESTAGE           0\n",
       "PREMIUM_CUSTOMER    0\n",
       "dtype: int64"
      ]
     },
     "execution_count": 6,
     "metadata": {},
     "output_type": "execute_result"
    }
   ],
   "source": [
    "df.isnull().sum()"
   ]
  },
  {
   "cell_type": "code",
   "execution_count": 7,
   "id": "0d77ac8e",
   "metadata": {},
   "outputs": [
    {
     "data": {
      "text/plain": [
       "1"
      ]
     },
     "execution_count": 7,
     "metadata": {},
     "output_type": "execute_result"
    }
   ],
   "source": [
    "df.duplicated().sum()"
   ]
  },
  {
   "cell_type": "code",
   "execution_count": 8,
   "id": "7ab4f1b4",
   "metadata": {},
   "outputs": [
    {
     "data": {
      "text/plain": [
       "(264834, 12)"
      ]
     },
     "execution_count": 8,
     "metadata": {},
     "output_type": "execute_result"
    }
   ],
   "source": [
    "df.shape"
   ]
  },
  {
   "cell_type": "code",
   "execution_count": 9,
   "id": "bd522aa9",
   "metadata": {},
   "outputs": [
    {
     "data": {
      "text/plain": [
       "Index(['LYLTY_CARD_NBR', 'DATE', 'STORE_NBR', 'TXN_ID', 'PROD_NBR',\n",
       "       'PROD_NAME', 'PROD_QTY', 'TOT_SALES', 'PACK_SIZE', 'BRAND', 'LIFESTAGE',\n",
       "       'PREMIUM_CUSTOMER'],\n",
       "      dtype='object')"
      ]
     },
     "execution_count": 9,
     "metadata": {},
     "output_type": "execute_result"
    }
   ],
   "source": [
    "df.columns "
   ]
  },
  {
   "cell_type": "markdown",
   "id": "0c42b1e3",
   "metadata": {},
   "source": [
    "# CONVERTING DATE COLUMN TO DATETIME"
   ]
  },
  {
   "cell_type": "code",
   "execution_count": 10,
   "id": "d394105a",
   "metadata": {},
   "outputs": [],
   "source": [
    "df['DATE'] = pd.to_datetime(df['DATE'])\n",
    "df['YEARMONTH'] = df['DATE'].dt.year * 100 + df['DATE'].dt.month"
   ]
  },
  {
   "cell_type": "code",
   "execution_count": 16,
   "id": "19a72a49",
   "metadata": {
    "scrolled": true
   },
   "outputs": [
    {
     "data": {
      "text/html": [
       "<div>\n",
       "<style scoped>\n",
       "    .dataframe tbody tr th:only-of-type {\n",
       "        vertical-align: middle;\n",
       "    }\n",
       "\n",
       "    .dataframe tbody tr th {\n",
       "        vertical-align: top;\n",
       "    }\n",
       "\n",
       "    .dataframe thead th {\n",
       "        text-align: right;\n",
       "    }\n",
       "</style>\n",
       "<table border=\"1\" class=\"dataframe\">\n",
       "  <thead>\n",
       "    <tr style=\"text-align: right;\">\n",
       "      <th></th>\n",
       "      <th>LYLTY_CARD_NBR</th>\n",
       "      <th>DATE</th>\n",
       "      <th>STORE_NBR</th>\n",
       "      <th>TXN_ID</th>\n",
       "      <th>PROD_NBR</th>\n",
       "      <th>PROD_NAME</th>\n",
       "      <th>PROD_QTY</th>\n",
       "      <th>TOT_SALES</th>\n",
       "      <th>PACK_SIZE</th>\n",
       "      <th>BRAND</th>\n",
       "      <th>LIFESTAGE</th>\n",
       "      <th>PREMIUM_CUSTOMER</th>\n",
       "      <th>YEARMONTH</th>\n",
       "    </tr>\n",
       "  </thead>\n",
       "  <tbody>\n",
       "    <tr>\n",
       "      <th>0</th>\n",
       "      <td>1000</td>\n",
       "      <td>2018-10-17</td>\n",
       "      <td>1</td>\n",
       "      <td>1</td>\n",
       "      <td>5</td>\n",
       "      <td>Natural Chip        Compny SeaSalt175g</td>\n",
       "      <td>2</td>\n",
       "      <td>6.0</td>\n",
       "      <td>175</td>\n",
       "      <td>NATURAL</td>\n",
       "      <td>YOUNG SINGLES/COUPLES</td>\n",
       "      <td>Premium</td>\n",
       "      <td>201810</td>\n",
       "    </tr>\n",
       "    <tr>\n",
       "      <th>1</th>\n",
       "      <td>1002</td>\n",
       "      <td>2018-09-16</td>\n",
       "      <td>1</td>\n",
       "      <td>2</td>\n",
       "      <td>58</td>\n",
       "      <td>Red Rock Deli Chikn&amp;Garlic Aioli 150g</td>\n",
       "      <td>1</td>\n",
       "      <td>2.7</td>\n",
       "      <td>150</td>\n",
       "      <td>RRD</td>\n",
       "      <td>YOUNG SINGLES/COUPLES</td>\n",
       "      <td>Mainstream</td>\n",
       "      <td>201809</td>\n",
       "    </tr>\n",
       "    <tr>\n",
       "      <th>2</th>\n",
       "      <td>1003</td>\n",
       "      <td>2019-03-07</td>\n",
       "      <td>1</td>\n",
       "      <td>3</td>\n",
       "      <td>52</td>\n",
       "      <td>Grain Waves Sour    Cream&amp;Chives 210G</td>\n",
       "      <td>1</td>\n",
       "      <td>3.6</td>\n",
       "      <td>210</td>\n",
       "      <td>GRNWVES</td>\n",
       "      <td>YOUNG FAMILIES</td>\n",
       "      <td>Budget</td>\n",
       "      <td>201903</td>\n",
       "    </tr>\n",
       "    <tr>\n",
       "      <th>3</th>\n",
       "      <td>1003</td>\n",
       "      <td>2019-03-08</td>\n",
       "      <td>1</td>\n",
       "      <td>4</td>\n",
       "      <td>106</td>\n",
       "      <td>Natural ChipCo      Hony Soy Chckn175g</td>\n",
       "      <td>1</td>\n",
       "      <td>3.0</td>\n",
       "      <td>175</td>\n",
       "      <td>NATURAL</td>\n",
       "      <td>YOUNG FAMILIES</td>\n",
       "      <td>Budget</td>\n",
       "      <td>201903</td>\n",
       "    </tr>\n",
       "    <tr>\n",
       "      <th>4</th>\n",
       "      <td>1004</td>\n",
       "      <td>2018-11-02</td>\n",
       "      <td>1</td>\n",
       "      <td>5</td>\n",
       "      <td>96</td>\n",
       "      <td>WW Original Stacked Chips 160g</td>\n",
       "      <td>1</td>\n",
       "      <td>1.9</td>\n",
       "      <td>160</td>\n",
       "      <td>WOOLWORTHS</td>\n",
       "      <td>OLDER SINGLES/COUPLES</td>\n",
       "      <td>Mainstream</td>\n",
       "      <td>201811</td>\n",
       "    </tr>\n",
       "  </tbody>\n",
       "</table>\n",
       "</div>"
      ],
      "text/plain": [
       "   LYLTY_CARD_NBR       DATE  STORE_NBR  TXN_ID  PROD_NBR  \\\n",
       "0            1000 2018-10-17          1       1         5   \n",
       "1            1002 2018-09-16          1       2        58   \n",
       "2            1003 2019-03-07          1       3        52   \n",
       "3            1003 2019-03-08          1       4       106   \n",
       "4            1004 2018-11-02          1       5        96   \n",
       "\n",
       "                                PROD_NAME  PROD_QTY  TOT_SALES  PACK_SIZE  \\\n",
       "0  Natural Chip        Compny SeaSalt175g         2        6.0        175   \n",
       "1   Red Rock Deli Chikn&Garlic Aioli 150g         1        2.7        150   \n",
       "2   Grain Waves Sour    Cream&Chives 210G         1        3.6        210   \n",
       "3  Natural ChipCo      Hony Soy Chckn175g         1        3.0        175   \n",
       "4          WW Original Stacked Chips 160g         1        1.9        160   \n",
       "\n",
       "        BRAND              LIFESTAGE PREMIUM_CUSTOMER  YEARMONTH  \n",
       "0     NATURAL  YOUNG SINGLES/COUPLES          Premium     201810  \n",
       "1         RRD  YOUNG SINGLES/COUPLES       Mainstream     201809  \n",
       "2     GRNWVES         YOUNG FAMILIES           Budget     201903  \n",
       "3     NATURAL         YOUNG FAMILIES           Budget     201903  \n",
       "4  WOOLWORTHS  OLDER SINGLES/COUPLES       Mainstream     201811  "
      ]
     },
     "execution_count": 16,
     "metadata": {},
     "output_type": "execute_result"
    }
   ],
   "source": [
    "df.head()"
   ]
  },
  {
   "cell_type": "markdown",
   "id": "305e2b1d",
   "metadata": {},
   "source": [
    "# SAVING THE CLEANED DATA FOR FUTURE USE"
   ]
  },
  {
   "cell_type": "code",
   "execution_count": 12,
   "id": "a5e704b9",
   "metadata": {},
   "outputs": [],
   "source": [
    "df.to_csv('CLEANED_QVI_DATA.csv', index=False)"
   ]
  },
  {
   "cell_type": "markdown",
   "id": "115b1474",
   "metadata": {},
   "source": [
    "# AGGREGATING MEASURES PER STORE AND MONTH"
   ]
  },
  {
   "cell_type": "code",
   "execution_count": 18,
   "id": "dbcaacc1",
   "metadata": {},
   "outputs": [],
   "source": [
    "measure_over_time = df.groupby(['STORE_NBR', 'YEARMONTH']).agg(\n",
    "    totSales=('TOT_SALES', 'sum'),\n",
    "    nCustomers=('LYLTY_CARD_NBR', 'nunique'),\n",
    "    nTxnPerCust=('TXN_ID', lambda x: x.nunique() / x.nunique()),\n",
    "    nChipsPerTxn=('PROD_QTY', lambda x: x.sum() / x.nunique()),\n",
    "    avgPricePerUnit=('TOT_SALES', lambda x: x.sum() / df['PROD_QTY'].sum())\n",
    ").reset_index()"
   ]
  },
  {
   "cell_type": "markdown",
   "id": "8c001283",
   "metadata": {},
   "source": [
    "# FILTERING STORES WITH FULL PRE-TRIAL DATA"
   ]
  },
  {
   "cell_type": "code",
   "execution_count": 19,
   "id": "58bb5305",
   "metadata": {},
   "outputs": [],
   "source": [
    "stores_with_full_obs = measure_over_time.groupby('STORE_NBR')['YEARMONTH'].nunique()\n",
    "stores_with_full_obs = stores_with_full_obs[stores_with_full_obs == 12].index\n",
    "pre_trial_measures = measure_over_time[measure_over_time['YEARMONTH'] < 201902]\n",
    "pre_trial_measures = pre_trial_measures[pre_trial_measures['STORE_NBR'].isin(stores_with_full_obs)]"
   ]
  },
  {
   "cell_type": "code",
   "execution_count": 21,
   "id": "30021613",
   "metadata": {},
   "outputs": [
    {
     "data": {
      "text/html": [
       "<div>\n",
       "<style scoped>\n",
       "    .dataframe tbody tr th:only-of-type {\n",
       "        vertical-align: middle;\n",
       "    }\n",
       "\n",
       "    .dataframe tbody tr th {\n",
       "        vertical-align: top;\n",
       "    }\n",
       "\n",
       "    .dataframe thead th {\n",
       "        text-align: right;\n",
       "    }\n",
       "</style>\n",
       "<table border=\"1\" class=\"dataframe\">\n",
       "  <thead>\n",
       "    <tr style=\"text-align: right;\">\n",
       "      <th></th>\n",
       "      <th>STORE_NBR</th>\n",
       "      <th>YEARMONTH</th>\n",
       "      <th>totSales</th>\n",
       "      <th>nCustomers</th>\n",
       "      <th>nTxnPerCust</th>\n",
       "      <th>nChipsPerTxn</th>\n",
       "      <th>avgPricePerUnit</th>\n",
       "    </tr>\n",
       "  </thead>\n",
       "  <tbody>\n",
       "    <tr>\n",
       "      <th>0</th>\n",
       "      <td>1</td>\n",
       "      <td>201807</td>\n",
       "      <td>206.9</td>\n",
       "      <td>49</td>\n",
       "      <td>1.0</td>\n",
       "      <td>31.0</td>\n",
       "      <td>0.000410</td>\n",
       "    </tr>\n",
       "    <tr>\n",
       "      <th>1</th>\n",
       "      <td>1</td>\n",
       "      <td>201808</td>\n",
       "      <td>176.1</td>\n",
       "      <td>42</td>\n",
       "      <td>1.0</td>\n",
       "      <td>18.0</td>\n",
       "      <td>0.000349</td>\n",
       "    </tr>\n",
       "    <tr>\n",
       "      <th>2</th>\n",
       "      <td>1</td>\n",
       "      <td>201809</td>\n",
       "      <td>278.8</td>\n",
       "      <td>59</td>\n",
       "      <td>1.0</td>\n",
       "      <td>37.5</td>\n",
       "      <td>0.000552</td>\n",
       "    </tr>\n",
       "    <tr>\n",
       "      <th>3</th>\n",
       "      <td>1</td>\n",
       "      <td>201810</td>\n",
       "      <td>188.1</td>\n",
       "      <td>44</td>\n",
       "      <td>1.0</td>\n",
       "      <td>29.0</td>\n",
       "      <td>0.000373</td>\n",
       "    </tr>\n",
       "    <tr>\n",
       "      <th>4</th>\n",
       "      <td>1</td>\n",
       "      <td>201811</td>\n",
       "      <td>192.6</td>\n",
       "      <td>46</td>\n",
       "      <td>1.0</td>\n",
       "      <td>28.5</td>\n",
       "      <td>0.000382</td>\n",
       "    </tr>\n",
       "  </tbody>\n",
       "</table>\n",
       "</div>"
      ],
      "text/plain": [
       "   STORE_NBR  YEARMONTH  totSales  nCustomers  nTxnPerCust  nChipsPerTxn  \\\n",
       "0          1     201807     206.9          49          1.0          31.0   \n",
       "1          1     201808     176.1          42          1.0          18.0   \n",
       "2          1     201809     278.8          59          1.0          37.5   \n",
       "3          1     201810     188.1          44          1.0          29.0   \n",
       "4          1     201811     192.6          46          1.0          28.5   \n",
       "\n",
       "   avgPricePerUnit  \n",
       "0         0.000410  \n",
       "1         0.000349  \n",
       "2         0.000552  \n",
       "3         0.000373  \n",
       "4         0.000382  "
      ]
     },
     "execution_count": 21,
     "metadata": {},
     "output_type": "execute_result"
    }
   ],
   "source": [
    "pre_trial_measures.head()"
   ]
  },
  {
   "cell_type": "markdown",
   "id": "a8186417",
   "metadata": {},
   "source": [
    "# DEFINING A FUNCTION TO CALCULATE CORRELATION"
   ]
  },
  {
   "cell_type": "code",
   "execution_count": 29,
   "id": "cb3df3f3",
   "metadata": {},
   "outputs": [],
   "source": [
    "def calculate_correlation(df, metric, trial_store):\n",
    "    correlations = []\n",
    "    for store in df['STORE_NBR'].unique():\n",
    "        if store != trial_store:\n",
    "            corr, _ = pearsonr(\n",
    "            df[df['STORE_NBR'] == trial_store][metric],\n",
    "            df[df['STORE_NBR'] == store][metric]\n",
    "            )\n",
    "            correlations.append((trial_store, store, corr))\n",
    "    return pd.DataFrame(correlations, columns=['TrialStore', 'ControlStore', 'Correlations'])"
   ]
  },
  {
   "cell_type": "markdown",
   "id": "f84bb1cc",
   "metadata": {},
   "source": [
    "# DEFINING A FUNCTION TO CALCULATE MAGNITUDE DISTANCE"
   ]
  },
  {
   "cell_type": "code",
   "execution_count": 37,
   "id": "07f84feb",
   "metadata": {},
   "outputs": [],
   "source": [
    "def calculate_magnitude_distance(df, metric, trial_store):\n",
    "    distances = []\n",
    "    for store in df['STORE_NBR'].unique():\n",
    "        if store != trial_store:\n",
    "            trial_values = df[df['STORE_NBR'] == trial_store][metric].values\n",
    "            control_values = df[df['STORE_NBR'] == store][metric].values\n",
    "            diff = np.abs(trial_values - control_values)\n",
    "            min_dist, max_dist = diff.min(), diff.max()\n",
    "            magnitude = 1 - (diff - min_dist) / (max_dist - min_dist)\n",
    "            distances.append((trial_store, store, magnitude.mean()))\n",
    "    return pd.DataFrame(distances, columns=['TrialStore', 'ControlStore', 'Magnitude'])"
   ]
  },
  {
   "cell_type": "markdown",
   "id": "81dc482c",
   "metadata": {},
   "source": [
    "# APLPYING FUNCTION FOR EACH TRIAL STORE"
   ]
  },
  {
   "cell_type": "code",
   "execution_count": 38,
   "id": "9e89cf20",
   "metadata": {},
   "outputs": [],
   "source": [
    "trial_stores = [77, 86, 88]\n",
    "control_store_mapping = {}"
   ]
  },
  {
   "cell_type": "code",
   "execution_count": 42,
   "id": "829e4a3a",
   "metadata": {},
   "outputs": [],
   "source": [
    "for trial in trial_stores:\n",
    "    corr_sales = calculate_correlation(pre_trial_measures, 'totSales', trial)\n",
    "    corr_customers = calculate_correlation(pre_trial_measures, 'nCustomers', trial)\n",
    "    mag_sales = calculate_magnitude_distance(pre_trial_measures, 'totSales', trial)\n",
    "    mag_customers = calculate_magnitude_distance(pre_trial_measures, 'nCustomers', trial)\n",
    "    \n",
    "    # combining scores\n",
    "    corr_weight = 0.5\n",
    "    score_sales = corr_sales.merge(mag_sales, on=['TrialStore', 'ControlStore'])\n",
    "    score_sales['ScoreSales'] = score_sales['Correlations'] * corr_weight + score_sales['Magnitude'] * (1- corr_weight)\n",
    "    \n",
    "    score_customers = corr_customers.merge(mag_customers, on=['TrialStore', 'ControlStore'])\n",
    "    score_customers['ScoreCustomers'] = score_customers['Correlations'] * corr_weight + score_customers['Magnitude'] * (1 - corr_weight)\n",
    "    \n",
    "    final_scores = score_sales.merge(score_customers, on=['TrialStore', 'ControlStore'])\n",
    "    final_scores['FinalScore'] = (final_scores['ScoreSales'] + final_scores['ScoreCustomers']) / 2\n",
    "    \n",
    "    # Ensuring the trial store itself is not selected as its own control\n",
    "    best_control = final_scores[final_scores['ControlStore'] != trial].sort_values(by='FinalScore', ascending=False).iloc[0]['ControlStore']\n",
    "    control_store_mapping[trial] = best_control"
   ]
  },
  {
   "cell_type": "code",
   "execution_count": 43,
   "id": "757ba357",
   "metadata": {},
   "outputs": [
    {
     "name": "stdout",
     "output_type": "stream",
     "text": [
      "{77: 233.0, 86: 155.0, 88: 178.0}\n"
     ]
    }
   ],
   "source": [
    "print(control_store_mapping)"
   ]
  },
  {
   "cell_type": "markdown",
   "id": "4eb7fd62",
   "metadata": {},
   "source": [
    "# VISUALIZING THE MEASURES"
   ]
  },
  {
   "cell_type": "code",
   "execution_count": 45,
   "id": "ab6eafb8",
   "metadata": {},
   "outputs": [],
   "source": [
    "selected_stores = trial_stores + list(control_store_mapping.values())\n",
    "filtered_data = measure_over_time[measure_over_time['STORE_NBR'].isin(selected_stores)]"
   ]
  },
  {
   "cell_type": "markdown",
   "id": "53c18491",
   "metadata": {},
   "source": [
    "### converting YEARMONTH to datetime for better x-axis readability"
   ]
  },
  {
   "cell_type": "code",
   "execution_count": 48,
   "id": "02b21565",
   "metadata": {},
   "outputs": [],
   "source": [
    "filtered_data = filtered_data.copy() # creating a copy before modification\n",
    "filtered_data.loc[:, 'YearMonth'] = pd.to_datetime(filtered_data['YEARMONTH'].astype(str), format='%Y%m')"
   ]
  },
  {
   "cell_type": "markdown",
   "id": "f3f47827",
   "metadata": {},
   "source": [
    "### plotting trial vs control stores"
   ]
  },
  {
   "cell_type": "code",
   "execution_count": 62,
   "id": "9ff94dac",
   "metadata": {
    "scrolled": true
   },
   "outputs": [
    {
     "data": {
      "image/png": "[encoded data removed]",
      "text/plain": [
       "<Figure size 1200x600 with 1 Axes>"
      ]
     },
     "metadata": {},
     "output_type": "display_data"
    }
   ],
   "source": [
    "plt.figure(figsize=(12, 6))\n",
    "sns.set_style('whitegrid')\n",
    "sns.lineplot(data=filtered_data, x='YearMonth', y='totSales', hue='STORE_NBR', palette='husl', linewidth=2)\n",
    "plt.title('TOTAL SALES OVER TIME  (TRIAL VS CONTROL STORES)', fontsize=14, fontweight='bold')\n",
    "plt.xlabel('Date', fontsize=12)\n",
    "plt.ylabel('Total Sales', fontsize=12)\n",
    "plt.legend(title='Store Number', bbox_to_anchor=(1.05, 1), loc='upper left')\n",
    "plt.xticks(rotation=45)\n",
    "plt.show()"
   ]
  },
  {
   "cell_type": "markdown",
   "id": "45336e59",
   "metadata": {},
   "source": [
    "# CONDUCTING STATISTICAL TESTING (T-TEST FOR SIGNIFICANCE)"
   ]
  },
  {
   "cell_type": "markdown",
   "id": "47dbfc9a",
   "metadata": {},
   "source": [
    "### creating required function"
   ]
  },
  {
   "cell_type": "code",
   "execution_count": 56,
   "id": "815eb00d",
   "metadata": {},
   "outputs": [],
   "source": [
    "def perform_t_test(trial_store, control_store, df, metric):\n",
    "    trial_values = df[df['STORE_NBR'] == trial_store][metric].values\n",
    "    control_values = df[df['STORE_NBR'] == control_store][metric].values\n",
    "    t_stat, p_value = ttest_ind(trial_values, control_values)\n",
    "    return p_value"
   ]
  },
  {
   "cell_type": "markdown",
   "id": "ff6f210f",
   "metadata": {},
   "source": [
    "### running t-tests for all trial stores"
   ]
  },
  {
   "cell_type": "code",
   "execution_count": 57,
   "id": "588bff5c",
   "metadata": {},
   "outputs": [
    {
     "name": "stdout",
     "output_type": "stream",
     "text": [
      "Trial Store 77 vs Control Store 233.0:\n",
      "P-Value (Sales): 0.34360373343122186\n",
      "P-Value (Customers): 0.43892961419410603\n",
      "---\n",
      "Trial Store 86 vs Control Store 155.0:\n",
      "P-Value (Sales): 0.9843869025850827\n",
      "P-Value (Customers): 0.16679506229806965\n",
      "---\n",
      "Trial Store 88 vs Control Store 178.0:\n",
      "P-Value (Sales): 1.3787928775623651e-11\n",
      "P-Value (Customers): 2.0416726827069008e-08\n",
      "---\n"
     ]
    }
   ],
   "source": [
    "for trial, control in control_store_mapping.items():\n",
    "    p_value_sales = perform_t_test(trial, control, measure_over_time, 'totSales')\n",
    "    p_value_customers = perform_t_test(trial, control, measure_over_time, 'nCustomers')\n",
    "    print(f\"Trial Store {trial} vs Control Store {control}:\")\n",
    "    print(f\"P-Value (Sales): {p_value_sales}\")\n",
    "    print(f\"P-Value (Customers): {p_value_customers}\")\n",
    "    print(\"---\")"
   ]
  },
  {
   "cell_type": "markdown",
   "id": "7c4aa587",
   "metadata": {},
   "source": [
    "# CONCLUSION"
   ]
  },
  {
   "cell_type": "code",
   "execution_count": 58,
   "id": "14e66536",
   "metadata": {},
   "outputs": [
    {
     "name": "stdout",
     "output_type": "stream",
     "text": [
      "Final Conclusion: Store trial analysis is completed successfully.\n"
     ]
    }
   ],
   "source": [
    "print(\"Final Conclusion: Store trial analysis is completed successfully.\")"
   ]
  },
  {
   "cell_type": "markdown",
   "id": "964f93ec",
   "metadata": {},
   "source": [
    "### sumerized findings from the trial period"
   ]
  },
  {
   "cell_type": "code",
   "execution_count": 59,
   "id": "0e4fef81",
   "metadata": {},
   "outputs": [
    {
     "name": "stdout",
     "output_type": "stream",
     "text": [
      "Trial Store 77 vs Control Store 233.0 Findings:\n",
      "- No statistically significant increase in total sales\n",
      "- No statistically significant increase in customer count.\n",
      "- The main driver of change appears to be increased spending per customer.\n",
      "---\n",
      "Trial Store 86 vs Control Store 155.0 Findings:\n",
      "- No statistically significant increase in total sales\n",
      "- No statistically significant increase in customer count.\n",
      "- The main driver of change appears to be customer growth\n",
      "---\n",
      "Trial Store 88 vs Control Store 178.0 Findings:\n",
      "- Significant increase in total sales during the trial period.\n",
      "- Significant increase in number of customers.\n",
      "- The main driver of change appears to be increased spending per customer.\n",
      "---\n"
     ]
    }
   ],
   "source": [
    "for trial, control in control_store_mapping.items():\n",
    "    p_value_sales = perform_t_test(trial, control, measure_over_time, 'totSales')\n",
    "    p_value_customers = perform_t_test(trial, control, measure_over_time, 'nCustomers')\n",
    "    \n",
    "    print(f'Trial Store {trial} vs Control Store {control} Findings:')\n",
    "    if p_value_sales < 0.05:\n",
    "        print('- Significant increase in total sales during the trial period.')\n",
    "    else:\n",
    "        print('- No statistically significant increase in total sales')\n",
    "        \n",
    "    if p_value_customers < 0.05:\n",
    "        print('- Significant increase in number of customers.')\n",
    "    else:\n",
    "        print('- No statistically significant increase in customer count.')\n",
    "        \n",
    "    print('- The main driver of change appears to be', 'customer growth' if p_value_customers < p_value_sales else 'increased spending per customer.')\n",
    "    print('---')"
   ]
  }
 ],
 "metadata": {
  "kernelspec": {
   "display_name": "Python 3 (ipykernel)",
   "language": "python",
   "name": "python3"
  },
  "language_info": {
   "codemirror_mode": {
    "name": "ipython",
    "version": 3
   },
   "file_extension": ".py",
   "mimetype": "text/x-python",
   "name": "python",
   "nbconvert_exporter": "python",
   "pygments_lexer": "ipython3",
   "version": "3.11.3"
  }
 },
 "nbformat": 4,
 "nbformat_minor": 5
}
