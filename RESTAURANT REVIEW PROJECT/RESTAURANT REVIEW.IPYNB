{
 "cells": [
  {
   "cell_type": "markdown",
   "metadata": {},
   "source": [
    "# RESTAURANT SENTIMENT ANALYSIS PROJECT"
   ]
  },
  {
   "cell_type": "markdown",
   "metadata": {},
   "source": [
    "### IGNORING WARNINGS"
   ]
  },
  {
   "cell_type": "code",
   "execution_count": 2,
   "metadata": {},
   "outputs": [],
   "source": [
    "from warnings import filterwarnings\n",
    "filterwarnings('ignore')"
   ]
  },
  {
   "cell_type": "markdown",
   "metadata": {},
   "source": [
    "### READING TSV FILE AND CHECKING INFO"
   ]
  },
  {
   "cell_type": "code",
   "execution_count": 3,
   "metadata": {},
   "outputs": [],
   "source": [
    "import pandas as pd\n",
    "df = pd.read_csv('Restaurant_Reviews.tsv', sep='\\t')"
   ]
  },
  {
   "cell_type": "code",
   "execution_count": 4,
   "metadata": {},
   "outputs": [
    {
     "name": "stdout",
     "output_type": "stream",
     "text": [
      "<class 'pandas.core.frame.DataFrame'>\n",
      "RangeIndex: 1000 entries, 0 to 999\n",
      "Data columns (total 2 columns):\n",
      " #   Column  Non-Null Count  Dtype \n",
      "---  ------  --------------  ----- \n",
      " 0   Review  1000 non-null   object\n",
      " 1   Liked   1000 non-null   int64 \n",
      "dtypes: int64(1), object(1)\n",
      "memory usage: 15.8+ KB\n"
     ]
    }
   ],
   "source": [
    "df.info()"
   ]
  },
  {
   "cell_type": "code",
   "execution_count": 5,
   "metadata": {},
   "outputs": [
    {
     "data": {
      "text/plain": [
       "Review    0\n",
       "Liked     0\n",
       "dtype: int64"
      ]
     },
     "execution_count": 5,
     "metadata": {},
     "output_type": "execute_result"
    }
   ],
   "source": [
    "df.isna().sum()"
   ]
  },
  {
   "cell_type": "code",
   "execution_count": 6,
   "metadata": {},
   "outputs": [
    {
     "data": {
      "text/plain": [
       "(1000, 2)"
      ]
     },
     "execution_count": 6,
     "metadata": {},
     "output_type": "execute_result"
    }
   ],
   "source": [
    "df.shape"
   ]
  },
  {
   "cell_type": "code",
   "execution_count": 7,
   "metadata": {},
   "outputs": [
    {
     "data": {
      "text/plain": [
       "4"
      ]
     },
     "execution_count": 7,
     "metadata": {},
     "output_type": "execute_result"
    }
   ],
   "source": [
    "df.duplicated().sum()"
   ]
  },
  {
   "cell_type": "markdown",
   "metadata": {},
   "source": [
    "### CREATING A FUNTION TO PREPROCESS THE TEXT DATA"
   ]
  },
  {
   "cell_type": "code",
   "execution_count": 11,
   "metadata": {},
   "outputs": [],
   "source": [
    "import re"
   ]
  },
  {
   "cell_type": "code",
   "execution_count": 12,
   "metadata": {},
   "outputs": [],
   "source": [
    "def preprocess_text(st):\n",
    "    st2 = st.lower()\n",
    "    st3 = re.sub('[^a-z ]', '', st2)\n",
    "    return st3"
   ]
  },
  {
   "cell_type": "code",
   "execution_count": 13,
   "metadata": {},
   "outputs": [
    {
     "data": {
      "text/plain": [
       "'  welcome to sentiment analysis class  '"
      ]
     },
     "execution_count": 13,
     "metadata": {},
     "output_type": "execute_result"
    }
   ],
   "source": [
    "preprocess_text(' !! WELCOME TO SENTIMENT ANALYSIS CLASS !! ')"
   ]
  },
  {
   "cell_type": "markdown",
   "metadata": {},
   "source": [
    "### APPLYING THE FUNCTION TO DATAFRAME"
   ]
  },
  {
   "cell_type": "code",
   "execution_count": 14,
   "metadata": {},
   "outputs": [],
   "source": [
    "df['pre'] = df ['Review'].apply(preprocess_text)"
   ]
  },
  {
   "cell_type": "code",
   "execution_count": 15,
   "metadata": {},
   "outputs": [
    {
     "data": {
      "text/html": [
       "<div>\n",
       "<style scoped>\n",
       "    .dataframe tbody tr th:only-of-type {\n",
       "        vertical-align: middle;\n",
       "    }\n",
       "\n",
       "    .dataframe tbody tr th {\n",
       "        vertical-align: top;\n",
       "    }\n",
       "\n",
       "    .dataframe thead th {\n",
       "        text-align: right;\n",
       "    }\n",
       "</style>\n",
       "<table border=\"1\" class=\"dataframe\">\n",
       "  <thead>\n",
       "    <tr style=\"text-align: right;\">\n",
       "      <th></th>\n",
       "      <th>Review</th>\n",
       "      <th>Liked</th>\n",
       "      <th>pre</th>\n",
       "    </tr>\n",
       "  </thead>\n",
       "  <tbody>\n",
       "    <tr>\n",
       "      <th>0</th>\n",
       "      <td>Wow... Loved this place.</td>\n",
       "      <td>1</td>\n",
       "      <td>wow loved this place</td>\n",
       "    </tr>\n",
       "    <tr>\n",
       "      <th>1</th>\n",
       "      <td>Crust is not good.</td>\n",
       "      <td>0</td>\n",
       "      <td>crust is not good</td>\n",
       "    </tr>\n",
       "    <tr>\n",
       "      <th>2</th>\n",
       "      <td>Not tasty and the texture was just nasty.</td>\n",
       "      <td>0</td>\n",
       "      <td>not tasty and the texture was just nasty</td>\n",
       "    </tr>\n",
       "    <tr>\n",
       "      <th>3</th>\n",
       "      <td>Stopped by during the late May bank holiday of...</td>\n",
       "      <td>1</td>\n",
       "      <td>stopped by during the late may bank holiday of...</td>\n",
       "    </tr>\n",
       "    <tr>\n",
       "      <th>4</th>\n",
       "      <td>The selection on the menu was great and so wer...</td>\n",
       "      <td>1</td>\n",
       "      <td>the selection on the menu was great and so wer...</td>\n",
       "    </tr>\n",
       "    <tr>\n",
       "      <th>...</th>\n",
       "      <td>...</td>\n",
       "      <td>...</td>\n",
       "      <td>...</td>\n",
       "    </tr>\n",
       "    <tr>\n",
       "      <th>995</th>\n",
       "      <td>I think food should have flavor and texture an...</td>\n",
       "      <td>0</td>\n",
       "      <td>i think food should have flavor and texture an...</td>\n",
       "    </tr>\n",
       "    <tr>\n",
       "      <th>996</th>\n",
       "      <td>Appetite instantly gone.</td>\n",
       "      <td>0</td>\n",
       "      <td>appetite instantly gone</td>\n",
       "    </tr>\n",
       "    <tr>\n",
       "      <th>997</th>\n",
       "      <td>Overall I was not impressed and would not go b...</td>\n",
       "      <td>0</td>\n",
       "      <td>overall i was not impressed and would not go back</td>\n",
       "    </tr>\n",
       "    <tr>\n",
       "      <th>998</th>\n",
       "      <td>The whole experience was underwhelming, and I ...</td>\n",
       "      <td>0</td>\n",
       "      <td>the whole experience was underwhelming and i t...</td>\n",
       "    </tr>\n",
       "    <tr>\n",
       "      <th>999</th>\n",
       "      <td>Then, as if I hadn't wasted enough of my life ...</td>\n",
       "      <td>0</td>\n",
       "      <td>then as if i hadnt wasted enough of my life th...</td>\n",
       "    </tr>\n",
       "  </tbody>\n",
       "</table>\n",
       "<p>1000 rows × 3 columns</p>\n",
       "</div>"
      ],
      "text/plain": [
       "                                                Review  Liked  \\\n",
       "0                             Wow... Loved this place.      1   \n",
       "1                                   Crust is not good.      0   \n",
       "2            Not tasty and the texture was just nasty.      0   \n",
       "3    Stopped by during the late May bank holiday of...      1   \n",
       "4    The selection on the menu was great and so wer...      1   \n",
       "..                                                 ...    ...   \n",
       "995  I think food should have flavor and texture an...      0   \n",
       "996                           Appetite instantly gone.      0   \n",
       "997  Overall I was not impressed and would not go b...      0   \n",
       "998  The whole experience was underwhelming, and I ...      0   \n",
       "999  Then, as if I hadn't wasted enough of my life ...      0   \n",
       "\n",
       "                                                   pre  \n",
       "0                                 wow loved this place  \n",
       "1                                    crust is not good  \n",
       "2             not tasty and the texture was just nasty  \n",
       "3    stopped by during the late may bank holiday of...  \n",
       "4    the selection on the menu was great and so wer...  \n",
       "..                                                 ...  \n",
       "995  i think food should have flavor and texture an...  \n",
       "996                            appetite instantly gone  \n",
       "997  overall i was not impressed and would not go back  \n",
       "998  the whole experience was underwhelming and i t...  \n",
       "999  then as if i hadnt wasted enough of my life th...  \n",
       "\n",
       "[1000 rows x 3 columns]"
      ]
     },
     "execution_count": 15,
     "metadata": {},
     "output_type": "execute_result"
    }
   ],
   "source": [
    "df"
   ]
  },
  {
   "cell_type": "markdown",
   "metadata": {},
   "source": [
    "### APPLYING THE TFIDF VECTORIZER ON PREPROCESS TEXT"
   ]
  },
  {
   "cell_type": "code",
   "execution_count": 16,
   "metadata": {},
   "outputs": [
    {
     "data": {
      "text/plain": [
       "array([[0., 0., 0., ..., 0., 0., 0.],\n",
       "       [0., 0., 0., ..., 0., 0., 0.],\n",
       "       [0., 0., 0., ..., 0., 0., 0.],\n",
       "       ...,\n",
       "       [0., 0., 0., ..., 0., 0., 0.],\n",
       "       [0., 0., 0., ..., 0., 0., 0.],\n",
       "       [0., 0., 0., ..., 0., 0., 0.]])"
      ]
     },
     "execution_count": 16,
     "metadata": {},
     "output_type": "execute_result"
    }
   ],
   "source": [
    "from sklearn.feature_extraction.text import TfidfVectorizer\n",
    "tf = TfidfVectorizer()\n",
    "x_pre = tf.fit_transform(df['pre']).toarray()\n",
    "x_pre"
   ]
  },
  {
   "cell_type": "code",
   "execution_count": 17,
   "metadata": {},
   "outputs": [
    {
     "data": {
      "text/plain": [
       "(1000, 2046)"
      ]
     },
     "execution_count": 17,
     "metadata": {},
     "output_type": "execute_result"
    }
   ],
   "source": [
    "x_pre.shape"
   ]
  },
  {
   "cell_type": "code",
   "execution_count": 18,
   "metadata": {},
   "outputs": [
    {
     "data": {
      "text/plain": [
       "0      1\n",
       "1      0\n",
       "2      0\n",
       "3      1\n",
       "4      1\n",
       "      ..\n",
       "995    0\n",
       "996    0\n",
       "997    0\n",
       "998    0\n",
       "999    0\n",
       "Name: Liked, Length: 1000, dtype: int64"
      ]
     },
     "execution_count": 18,
     "metadata": {},
     "output_type": "execute_result"
    }
   ],
   "source": [
    "y = df['Liked']\n",
    "y"
   ]
  },
  {
   "cell_type": "markdown",
   "metadata": {},
   "source": [
    "### APPLYING TRAIN TEST SPLIT"
   ]
  },
  {
   "cell_type": "code",
   "execution_count": 19,
   "metadata": {},
   "outputs": [],
   "source": [
    "from sklearn.model_selection import train_test_split\n",
    "xtrain, xtest, ytrain, ytest = train_test_split(x_pre, y,\n",
    "                                                test_size=0.2,\n",
    "                                                random_state=21)"
   ]
  },
  {
   "cell_type": "code",
   "execution_count": 20,
   "metadata": {},
   "outputs": [
    {
     "data": {
      "text/plain": [
       "(800, 2046)"
      ]
     },
     "execution_count": 20,
     "metadata": {},
     "output_type": "execute_result"
    }
   ],
   "source": [
    "xtrain.shape"
   ]
  },
  {
   "cell_type": "code",
   "execution_count": 21,
   "metadata": {},
   "outputs": [
    {
     "data": {
      "text/plain": [
       "(200, 2046)"
      ]
     },
     "execution_count": 21,
     "metadata": {},
     "output_type": "execute_result"
    }
   ],
   "source": [
    "xtest.shape"
   ]
  },
  {
   "cell_type": "code",
   "execution_count": 22,
   "metadata": {},
   "outputs": [
    {
     "data": {
      "text/plain": [
       "2046"
      ]
     },
     "execution_count": 22,
     "metadata": {},
     "output_type": "execute_result"
    }
   ],
   "source": [
    "xtest.shape[1]"
   ]
  },
  {
   "cell_type": "markdown",
   "metadata": {},
   "source": [
    "### CREATING A NEURAL NETWORK"
   ]
  },
  {
   "cell_type": "code",
   "execution_count": 23,
   "metadata": {},
   "outputs": [],
   "source": [
    "from keras.models import Sequential\n",
    "from keras.layers import Input, Dense, Dropout\n",
    "from keras.callbacks import EarlyStopping"
   ]
  },
  {
   "cell_type": "code",
   "execution_count": 27,
   "metadata": {},
   "outputs": [],
   "source": [
    "model = Sequential()\n",
    "\n",
    "# CREATING INPUT LAYER\n",
    "model.add(Input(shape=(xtrain.shape[1],)))\n",
    "\n",
    "# CREATING DENSE LAYER 1 \n",
    "model.add(Dense(units=128, activation='relu'))\n",
    "\n",
    "# ADDING DROPOUT LAYER 1\n",
    "model.add(Dropout(rate=0.5))\n",
    "\n",
    "# CREATING A DENSE LAYER 2\n",
    "model.add(Dense(units=64, activation='relu'))\n",
    "\n",
    "# CREATING DROPOUT LAYER 2 \n",
    "model.add(Dropout(rate=0.4))\n",
    "\n",
    "# CREATING OUTPUT LAYER\n",
    "model.add(Dense(1, activation='sigmoid'))"
   ]
  },
  {
   "cell_type": "code",
   "execution_count": 28,
   "metadata": {},
   "outputs": [
    {
     "name": "stdout",
     "output_type": "stream",
     "text": [
      "Model: \"sequential_2\"\n",
      "_________________________________________________________________\n",
      " Layer (type)                Output Shape              Param #   \n",
      "=================================================================\n",
      " dense_3 (Dense)             (None, 128)               262016    \n",
      "                                                                 \n",
      " dropout_2 (Dropout)         (None, 128)               0         \n",
      "                                                                 \n",
      " dense_4 (Dense)             (None, 64)                8256      \n",
      "                                                                 \n",
      " dropout_3 (Dropout)         (None, 64)                0         \n",
      "                                                                 \n",
      " dense_5 (Dense)             (None, 1)                 65        \n",
      "                                                                 \n",
      "=================================================================\n",
      "Total params: 270337 (1.03 MB)\n",
      "Trainable params: 270337 (1.03 MB)\n",
      "Non-trainable params: 0 (0.00 Byte)\n",
      "_________________________________________________________________\n"
     ]
    }
   ],
   "source": [
    "model.summary()"
   ]
  },
  {
   "cell_type": "markdown",
   "metadata": {},
   "source": [
    "### COMPILING THE MODEL"
   ]
  },
  {
   "cell_type": "code",
   "execution_count": 29,
   "metadata": {},
   "outputs": [],
   "source": [
    "model.compile(optimizer='adam', loss='binary_crossentropy', metrics=['accuracy'])"
   ]
  },
  {
   "cell_type": "code",
   "execution_count": 30,
   "metadata": {},
   "outputs": [],
   "source": [
    "es = EarlyStopping(monitor='value_loss', patience=15)"
   ]
  },
  {
   "cell_type": "code",
   "execution_count": 31,
   "metadata": {},
   "outputs": [
    {
     "name": "stdout",
     "output_type": "stream",
     "text": [
      "Epoch 1/100\n",
      "22/23 [===========================>..] - ETA: 0s - loss: 0.6906 - accuracy: 0.5469WARNING:tensorflow:Early stopping conditioned on metric `value_loss` which is not available. Available metrics are: loss,accuracy,val_loss,val_accuracy\n",
      "23/23 [==============================] - 8s 100ms/step - loss: 0.6904 - accuracy: 0.5500 - val_loss: 0.6892 - val_accuracy: 0.5375\n",
      "Epoch 2/100\n",
      "23/23 [==============================] - ETA: 0s - loss: 0.6732 - accuracy: 0.6958WARNING:tensorflow:Early stopping conditioned on metric `value_loss` which is not available. Available metrics are: loss,accuracy,val_loss,val_accuracy\n",
      "23/23 [==============================] - 1s 54ms/step - loss: 0.6732 - accuracy: 0.6958 - val_loss: 0.6757 - val_accuracy: 0.6000\n",
      "Epoch 3/100\n",
      "21/23 [==========================>...] - ETA: 0s - loss: 0.6306 - accuracy: 0.8095WARNING:tensorflow:Early stopping conditioned on metric `value_loss` which is not available. Available metrics are: loss,accuracy,val_loss,val_accuracy\n",
      "23/23 [==============================] - 1s 26ms/step - loss: 0.6290 - accuracy: 0.8111 - val_loss: 0.6203 - val_accuracy: 0.7750\n",
      "Epoch 4/100\n",
      "21/23 [==========================>...] - ETA: 0s - loss: 0.5126 - accuracy: 0.9196WARNING:tensorflow:Early stopping conditioned on metric `value_loss` which is not available. Available metrics are: loss,accuracy,val_loss,val_accuracy\n",
      "23/23 [==============================] - 0s 20ms/step - loss: 0.5073 - accuracy: 0.9194 - val_loss: 0.5431 - val_accuracy: 0.7625\n",
      "Epoch 5/100\n",
      "22/23 [===========================>..] - ETA: 0s - loss: 0.3442 - accuracy: 0.9361WARNING:tensorflow:Early stopping conditioned on metric `value_loss` which is not available. Available metrics are: loss,accuracy,val_loss,val_accuracy\n",
      "23/23 [==============================] - 0s 19ms/step - loss: 0.3434 - accuracy: 0.9347 - val_loss: 0.4393 - val_accuracy: 0.8000\n",
      "Epoch 6/100\n",
      "20/23 [=========================>....] - ETA: 0s - loss: 0.1967 - accuracy: 0.9688WARNING:tensorflow:Early stopping conditioned on metric `value_loss` which is not available. Available metrics are: loss,accuracy,val_loss,val_accuracy\n",
      "23/23 [==============================] - 1s 23ms/step - loss: 0.1935 - accuracy: 0.9694 - val_loss: 0.4203 - val_accuracy: 0.7750\n",
      "Epoch 7/100\n",
      "20/23 [=========================>....] - ETA: 0s - loss: 0.1190 - accuracy: 0.9734WARNING:tensorflow:Early stopping conditioned on metric `value_loss` which is not available. Available metrics are: loss,accuracy,val_loss,val_accuracy\n",
      "23/23 [==============================] - 0s 22ms/step - loss: 0.1158 - accuracy: 0.9736 - val_loss: 0.4389 - val_accuracy: 0.7750\n",
      "Epoch 8/100\n",
      "23/23 [==============================] - ETA: 0s - loss: 0.0648 - accuracy: 0.9917WARNING:tensorflow:Early stopping conditioned on metric `value_loss` which is not available. Available metrics are: loss,accuracy,val_loss,val_accuracy\n",
      "23/23 [==============================] - 0s 20ms/step - loss: 0.0648 - accuracy: 0.9917 - val_loss: 0.4534 - val_accuracy: 0.7625\n",
      "Epoch 9/100\n",
      "20/23 [=========================>....] - ETA: 0s - loss: 0.0379 - accuracy: 0.9969WARNING:tensorflow:Early stopping conditioned on metric `value_loss` which is not available. Available metrics are: loss,accuracy,val_loss,val_accuracy\n",
      "23/23 [==============================] - 0s 17ms/step - loss: 0.0363 - accuracy: 0.9972 - val_loss: 0.5111 - val_accuracy: 0.7750\n",
      "Epoch 10/100\n",
      "19/23 [=======================>......] - ETA: 0s - loss: 0.0280 - accuracy: 0.9984WARNING:tensorflow:Early stopping conditioned on metric `value_loss` which is not available. Available metrics are: loss,accuracy,val_loss,val_accuracy\n",
      "23/23 [==============================] - 0s 16ms/step - loss: 0.0287 - accuracy: 0.9972 - val_loss: 0.5404 - val_accuracy: 0.7625\n",
      "Epoch 11/100\n",
      "22/23 [===========================>..] - ETA: 0s - loss: 0.0205 - accuracy: 0.9972WARNING:tensorflow:Early stopping conditioned on metric `value_loss` which is not available. Available metrics are: loss,accuracy,val_loss,val_accuracy\n",
      "23/23 [==============================] - 1s 31ms/step - loss: 0.0203 - accuracy: 0.9972 - val_loss: 0.5735 - val_accuracy: 0.7625\n",
      "Epoch 12/100\n",
      "22/23 [===========================>..] - ETA: 0s - loss: 0.0135 - accuracy: 1.0000WARNING:tensorflow:Early stopping conditioned on metric `value_loss` which is not available. Available metrics are: loss,accuracy,val_loss,val_accuracy\n",
      "23/23 [==============================] - 0s 20ms/step - loss: 0.0138 - accuracy: 1.0000 - val_loss: 0.5674 - val_accuracy: 0.7625\n",
      "Epoch 13/100\n",
      "19/23 [=======================>......] - ETA: 0s - loss: 0.0095 - accuracy: 1.0000WARNING:tensorflow:Early stopping conditioned on metric `value_loss` which is not available. Available metrics are: loss,accuracy,val_loss,val_accuracy\n",
      "23/23 [==============================] - 0s 19ms/step - loss: 0.0103 - accuracy: 1.0000 - val_loss: 0.6218 - val_accuracy: 0.7625\n",
      "Epoch 14/100\n",
      "20/23 [=========================>....] - ETA: 0s - loss: 0.0093 - accuracy: 1.0000WARNING:tensorflow:Early stopping conditioned on metric `value_loss` which is not available. Available metrics are: loss,accuracy,val_loss,val_accuracy\n",
      "23/23 [==============================] - 1s 26ms/step - loss: 0.0096 - accuracy: 1.0000 - val_loss: 0.6439 - val_accuracy: 0.7500\n",
      "Epoch 15/100\n",
      "21/23 [==========================>...] - ETA: 0s - loss: 0.0072 - accuracy: 1.0000WARNING:tensorflow:Early stopping conditioned on metric `value_loss` which is not available. Available metrics are: loss,accuracy,val_loss,val_accuracy\n",
      "23/23 [==============================] - 0s 18ms/step - loss: 0.0074 - accuracy: 1.0000 - val_loss: 0.6304 - val_accuracy: 0.7625\n",
      "Epoch 16/100\n",
      "21/23 [==========================>...] - ETA: 0s - loss: 0.0067 - accuracy: 1.0000WARNING:tensorflow:Early stopping conditioned on metric `value_loss` which is not available. Available metrics are: loss,accuracy,val_loss,val_accuracy\n",
      "23/23 [==============================] - 0s 17ms/step - loss: 0.0065 - accuracy: 1.0000 - val_loss: 0.6691 - val_accuracy: 0.7375\n",
      "Epoch 17/100\n",
      "19/23 [=======================>......] - ETA: 0s - loss: 0.0059 - accuracy: 1.0000WARNING:tensorflow:Early stopping conditioned on metric `value_loss` which is not available. Available metrics are: loss,accuracy,val_loss,val_accuracy\n",
      "23/23 [==============================] - 0s 15ms/step - loss: 0.0061 - accuracy: 1.0000 - val_loss: 0.6773 - val_accuracy: 0.7500\n",
      "Epoch 18/100\n",
      "19/23 [=======================>......] - ETA: 0s - loss: 0.0048 - accuracy: 1.0000WARNING:tensorflow:Early stopping conditioned on metric `value_loss` which is not available. Available metrics are: loss,accuracy,val_loss,val_accuracy\n",
      "23/23 [==============================] - 0s 15ms/step - loss: 0.0046 - accuracy: 1.0000 - val_loss: 0.7225 - val_accuracy: 0.7375\n",
      "Epoch 19/100\n",
      "23/23 [==============================] - ETA: 0s - loss: 0.0072 - accuracy: 0.9986WARNING:tensorflow:Early stopping conditioned on metric `value_loss` which is not available. Available metrics are: loss,accuracy,val_loss,val_accuracy\n",
      "23/23 [==============================] - 0s 16ms/step - loss: 0.0072 - accuracy: 0.9986 - val_loss: 0.7506 - val_accuracy: 0.7375\n",
      "Epoch 20/100\n",
      "20/23 [=========================>....] - ETA: 0s - loss: 0.0034 - accuracy: 1.0000WARNING:tensorflow:Early stopping conditioned on metric `value_loss` which is not available. Available metrics are: loss,accuracy,val_loss,val_accuracy\n",
      "23/23 [==============================] - 0s 17ms/step - loss: 0.0035 - accuracy: 1.0000 - val_loss: 0.7223 - val_accuracy: 0.7375\n",
      "Epoch 21/100\n",
      "22/23 [===========================>..] - ETA: 0s - loss: 0.0036 - accuracy: 1.0000WARNING:tensorflow:Early stopping conditioned on metric `value_loss` which is not available. Available metrics are: loss,accuracy,val_loss,val_accuracy\n",
      "23/23 [==============================] - 0s 17ms/step - loss: 0.0036 - accuracy: 1.0000 - val_loss: 0.7526 - val_accuracy: 0.7375\n",
      "Epoch 22/100\n",
      "23/23 [==============================] - ETA: 0s - loss: 0.0023 - accuracy: 1.0000WARNING:tensorflow:Early stopping conditioned on metric `value_loss` which is not available. Available metrics are: loss,accuracy,val_loss,val_accuracy\n",
      "23/23 [==============================] - 0s 20ms/step - loss: 0.0023 - accuracy: 1.0000 - val_loss: 0.7481 - val_accuracy: 0.7375\n",
      "Epoch 23/100\n",
      "21/23 [==========================>...] - ETA: 0s - loss: 0.0030 - accuracy: 1.0000WARNING:tensorflow:Early stopping conditioned on metric `value_loss` which is not available. Available metrics are: loss,accuracy,val_loss,val_accuracy\n",
      "23/23 [==============================] - 1s 22ms/step - loss: 0.0029 - accuracy: 1.0000 - val_loss: 0.7712 - val_accuracy: 0.7250\n",
      "Epoch 24/100\n",
      "20/23 [=========================>....] - ETA: 0s - loss: 0.0019 - accuracy: 1.0000WARNING:tensorflow:Early stopping conditioned on metric `value_loss` which is not available. Available metrics are: loss,accuracy,val_loss,val_accuracy\n",
      "23/23 [==============================] - 0s 18ms/step - loss: 0.0019 - accuracy: 1.0000 - val_loss: 0.7681 - val_accuracy: 0.7375\n",
      "Epoch 25/100\n",
      "22/23 [===========================>..] - ETA: 0s - loss: 0.0018 - accuracy: 1.0000WARNING:tensorflow:Early stopping conditioned on metric `value_loss` which is not available. Available metrics are: loss,accuracy,val_loss,val_accuracy\n",
      "23/23 [==============================] - 0s 17ms/step - loss: 0.0017 - accuracy: 1.0000 - val_loss: 0.7978 - val_accuracy: 0.7375\n",
      "Epoch 26/100\n",
      "23/23 [==============================] - ETA: 0s - loss: 0.0015 - accuracy: 1.0000WARNING:tensorflow:Early stopping conditioned on metric `value_loss` which is not available. Available metrics are: loss,accuracy,val_loss,val_accuracy\n",
      "23/23 [==============================] - 0s 19ms/step - loss: 0.0015 - accuracy: 1.0000 - val_loss: 0.8034 - val_accuracy: 0.7250\n",
      "Epoch 27/100\n",
      "22/23 [===========================>..] - ETA: 0s - loss: 0.0014 - accuracy: 1.0000WARNING:tensorflow:Early stopping conditioned on metric `value_loss` which is not available. Available metrics are: loss,accuracy,val_loss,val_accuracy\n",
      "23/23 [==============================] - 0s 16ms/step - loss: 0.0014 - accuracy: 1.0000 - val_loss: 0.8026 - val_accuracy: 0.7250\n",
      "Epoch 28/100\n",
      "22/23 [===========================>..] - ETA: 0s - loss: 0.0011 - accuracy: 1.0000WARNING:tensorflow:Early stopping conditioned on metric `value_loss` which is not available. Available metrics are: loss,accuracy,val_loss,val_accuracy\n",
      "23/23 [==============================] - 0s 17ms/step - loss: 0.0011 - accuracy: 1.0000 - val_loss: 0.8185 - val_accuracy: 0.7250\n",
      "Epoch 29/100\n",
      "20/23 [=========================>....] - ETA: 0s - loss: 0.0013 - accuracy: 1.0000WARNING:tensorflow:Early stopping conditioned on metric `value_loss` which is not available. Available metrics are: loss,accuracy,val_loss,val_accuracy\n",
      "23/23 [==============================] - 0s 18ms/step - loss: 0.0013 - accuracy: 1.0000 - val_loss: 0.7951 - val_accuracy: 0.7375\n",
      "Epoch 30/100\n",
      "21/23 [==========================>...] - ETA: 0s - loss: 0.0011 - accuracy: 1.0000  WARNING:tensorflow:Early stopping conditioned on metric `value_loss` which is not available. Available metrics are: loss,accuracy,val_loss,val_accuracy\n",
      "23/23 [==============================] - 0s 17ms/step - loss: 0.0010 - accuracy: 1.0000 - val_loss: 0.8076 - val_accuracy: 0.7375\n",
      "Epoch 31/100\n",
      "22/23 [===========================>..] - ETA: 0s - loss: 0.0022 - accuracy: 1.0000WARNING:tensorflow:Early stopping conditioned on metric `value_loss` which is not available. Available metrics are: loss,accuracy,val_loss,val_accuracy\n",
      "23/23 [==============================] - 0s 22ms/step - loss: 0.0022 - accuracy: 1.0000 - val_loss: 0.8843 - val_accuracy: 0.7250\n",
      "Epoch 32/100\n",
      "19/23 [=======================>......] - ETA: 0s - loss: 9.4209e-04 - accuracy: 1.0000WARNING:tensorflow:Early stopping conditioned on metric `value_loss` which is not available. Available metrics are: loss,accuracy,val_loss,val_accuracy\n",
      "23/23 [==============================] - 0s 15ms/step - loss: 9.2457e-04 - accuracy: 1.0000 - val_loss: 0.8899 - val_accuracy: 0.7250\n",
      "Epoch 33/100\n",
      "21/23 [==========================>...] - ETA: 0s - loss: 8.1559e-04 - accuracy: 1.0000WARNING:tensorflow:Early stopping conditioned on metric `value_loss` which is not available. Available metrics are: loss,accuracy,val_loss,val_accuracy\n",
      "23/23 [==============================] - 0s 17ms/step - loss: 8.0203e-04 - accuracy: 1.0000 - val_loss: 0.8807 - val_accuracy: 0.7250\n",
      "Epoch 34/100\n",
      "19/23 [=======================>......] - ETA: 0s - loss: 0.0011 - accuracy: 1.0000  WARNING:tensorflow:Early stopping conditioned on metric `value_loss` which is not available. Available metrics are: loss,accuracy,val_loss,val_accuracy\n",
      "23/23 [==============================] - 0s 19ms/step - loss: 0.0011 - accuracy: 1.0000 - val_loss: 0.8897 - val_accuracy: 0.7250\n",
      "Epoch 35/100\n",
      "21/23 [==========================>...] - ETA: 0s - loss: 0.0013 - accuracy: 1.0000WARNING:tensorflow:Early stopping conditioned on metric `value_loss` which is not available. Available metrics are: loss,accuracy,val_loss,val_accuracy\n",
      "23/23 [==============================] - 0s 19ms/step - loss: 0.0013 - accuracy: 1.0000 - val_loss: 0.8860 - val_accuracy: 0.7250\n",
      "Epoch 36/100\n",
      "22/23 [===========================>..] - ETA: 0s - loss: 0.0021 - accuracy: 1.0000WARNING:tensorflow:Early stopping conditioned on metric `value_loss` which is not available. Available metrics are: loss,accuracy,val_loss,val_accuracy\n",
      "23/23 [==============================] - 0s 20ms/step - loss: 0.0022 - accuracy: 1.0000 - val_loss: 0.8539 - val_accuracy: 0.7375\n",
      "Epoch 37/100\n",
      "20/23 [=========================>....] - ETA: 0s - loss: 6.8346e-04 - accuracy: 1.0000WARNING:tensorflow:Early stopping conditioned on metric `value_loss` which is not available. Available metrics are: loss,accuracy,val_loss,val_accuracy\n",
      "23/23 [==============================] - 1s 25ms/step - loss: 6.9105e-04 - accuracy: 1.0000 - val_loss: 0.8414 - val_accuracy: 0.7500\n",
      "Epoch 38/100\n",
      "20/23 [=========================>....] - ETA: 0s - loss: 8.6994e-04 - accuracy: 1.0000WARNING:tensorflow:Early stopping conditioned on metric `value_loss` which is not available. Available metrics are: loss,accuracy,val_loss,val_accuracy\n",
      "23/23 [==============================] - 0s 19ms/step - loss: 8.0999e-04 - accuracy: 1.0000 - val_loss: 0.8894 - val_accuracy: 0.7375\n",
      "Epoch 39/100\n",
      "22/23 [===========================>..] - ETA: 0s - loss: 6.8233e-04 - accuracy: 1.0000WARNING:tensorflow:Early stopping conditioned on metric `value_loss` which is not available. Available metrics are: loss,accuracy,val_loss,val_accuracy\n",
      "23/23 [==============================] - 0s 17ms/step - loss: 6.7408e-04 - accuracy: 1.0000 - val_loss: 0.9178 - val_accuracy: 0.7250\n",
      "Epoch 40/100\n",
      "20/23 [=========================>....] - ETA: 0s - loss: 5.8441e-04 - accuracy: 1.0000WARNING:tensorflow:Early stopping conditioned on metric `value_loss` which is not available. Available metrics are: loss,accuracy,val_loss,val_accuracy\n",
      "23/23 [==============================] - 0s 19ms/step - loss: 5.4873e-04 - accuracy: 1.0000 - val_loss: 0.9266 - val_accuracy: 0.7375\n",
      "Epoch 41/100\n",
      "21/23 [==========================>...] - ETA: 0s - loss: 4.0253e-04 - accuracy: 1.0000WARNING:tensorflow:Early stopping conditioned on metric `value_loss` which is not available. Available metrics are: loss,accuracy,val_loss,val_accuracy\n",
      "23/23 [==============================] - 0s 18ms/step - loss: 4.1760e-04 - accuracy: 1.0000 - val_loss: 0.9268 - val_accuracy: 0.7375\n",
      "Epoch 42/100\n",
      "19/23 [=======================>......] - ETA: 0s - loss: 5.7452e-04 - accuracy: 1.0000WARNING:tensorflow:Early stopping conditioned on metric `value_loss` which is not available. Available metrics are: loss,accuracy,val_loss,val_accuracy\n",
      "23/23 [==============================] - 0s 18ms/step - loss: 5.4360e-04 - accuracy: 1.0000 - val_loss: 0.9374 - val_accuracy: 0.7250\n",
      "Epoch 43/100\n",
      "23/23 [==============================] - ETA: 0s - loss: 5.4307e-04 - accuracy: 1.0000WARNING:tensorflow:Early stopping conditioned on metric `value_loss` which is not available. Available metrics are: loss,accuracy,val_loss,val_accuracy\n",
      "23/23 [==============================] - 0s 21ms/step - loss: 5.4307e-04 - accuracy: 1.0000 - val_loss: 0.9710 - val_accuracy: 0.7250\n",
      "Epoch 44/100\n",
      "20/23 [=========================>....] - ETA: 0s - loss: 4.0694e-04 - accuracy: 1.0000WARNING:tensorflow:Early stopping conditioned on metric `value_loss` which is not available. Available metrics are: loss,accuracy,val_loss,val_accuracy\n",
      "23/23 [==============================] - 0s 17ms/step - loss: 3.9506e-04 - accuracy: 1.0000 - val_loss: 0.9829 - val_accuracy: 0.7250\n",
      "Epoch 45/100\n",
      "21/23 [==========================>...] - ETA: 0s - loss: 6.4887e-04 - accuracy: 1.0000WARNING:tensorflow:Early stopping conditioned on metric `value_loss` which is not available. Available metrics are: loss,accuracy,val_loss,val_accuracy\n",
      "23/23 [==============================] - 0s 21ms/step - loss: 8.3507e-04 - accuracy: 1.0000 - val_loss: 0.9623 - val_accuracy: 0.7250\n",
      "Epoch 46/100\n",
      "23/23 [==============================] - ETA: 0s - loss: 4.0147e-04 - accuracy: 1.0000WARNING:tensorflow:Early stopping conditioned on metric `value_loss` which is not available. Available metrics are: loss,accuracy,val_loss,val_accuracy\n",
      "23/23 [==============================] - 1s 22ms/step - loss: 4.0147e-04 - accuracy: 1.0000 - val_loss: 0.9441 - val_accuracy: 0.7375\n",
      "Epoch 47/100\n",
      "21/23 [==========================>...] - ETA: 0s - loss: 5.5969e-04 - accuracy: 1.0000WARNING:tensorflow:Early stopping conditioned on metric `value_loss` which is not available. Available metrics are: loss,accuracy,val_loss,val_accuracy\n",
      "23/23 [==============================] - 0s 21ms/step - loss: 5.3658e-04 - accuracy: 1.0000 - val_loss: 0.9504 - val_accuracy: 0.7375\n",
      "Epoch 48/100\n",
      "22/23 [===========================>..] - ETA: 0s - loss: 4.0278e-04 - accuracy: 1.0000WARNING:tensorflow:Early stopping conditioned on metric `value_loss` which is not available. Available metrics are: loss,accuracy,val_loss,val_accuracy\n",
      "23/23 [==============================] - 0s 17ms/step - loss: 3.9714e-04 - accuracy: 1.0000 - val_loss: 0.9511 - val_accuracy: 0.7375\n",
      "Epoch 49/100\n",
      "23/23 [==============================] - ETA: 0s - loss: 4.0691e-04 - accuracy: 1.0000WARNING:tensorflow:Early stopping conditioned on metric `value_loss` which is not available. Available metrics are: loss,accuracy,val_loss,val_accuracy\n",
      "23/23 [==============================] - 0s 20ms/step - loss: 4.0691e-04 - accuracy: 1.0000 - val_loss: 0.9499 - val_accuracy: 0.7375\n",
      "Epoch 50/100\n",
      "21/23 [==========================>...] - ETA: 0s - loss: 4.5554e-04 - accuracy: 1.0000WARNING:tensorflow:Early stopping conditioned on metric `value_loss` which is not available. Available metrics are: loss,accuracy,val_loss,val_accuracy\n",
      "23/23 [==============================] - 0s 18ms/step - loss: 4.8520e-04 - accuracy: 1.0000 - val_loss: 0.9678 - val_accuracy: 0.7375\n",
      "Epoch 51/100\n",
      "21/23 [==========================>...] - ETA: 0s - loss: 3.6012e-04 - accuracy: 1.0000WARNING:tensorflow:Early stopping conditioned on metric `value_loss` which is not available. Available metrics are: loss,accuracy,val_loss,val_accuracy\n",
      "23/23 [==============================] - 0s 20ms/step - loss: 3.6859e-04 - accuracy: 1.0000 - val_loss: 0.9851 - val_accuracy: 0.7250\n",
      "Epoch 52/100\n",
      "22/23 [===========================>..] - ETA: 0s - loss: 2.5798e-04 - accuracy: 1.0000WARNING:tensorflow:Early stopping conditioned on metric `value_loss` which is not available. Available metrics are: loss,accuracy,val_loss,val_accuracy\n",
      "23/23 [==============================] - 0s 17ms/step - loss: 3.1893e-04 - accuracy: 1.0000 - val_loss: 0.9844 - val_accuracy: 0.7250\n",
      "Epoch 53/100\n",
      "20/23 [=========================>....] - ETA: 0s - loss: 3.6870e-04 - accuracy: 1.0000WARNING:tensorflow:Early stopping conditioned on metric `value_loss` which is not available. Available metrics are: loss,accuracy,val_loss,val_accuracy\n",
      "23/23 [==============================] - 0s 16ms/step - loss: 3.5288e-04 - accuracy: 1.0000 - val_loss: 1.0131 - val_accuracy: 0.7250\n",
      "Epoch 54/100\n",
      "21/23 [==========================>...] - ETA: 0s - loss: 3.9589e-04 - accuracy: 1.0000WARNING:tensorflow:Early stopping conditioned on metric `value_loss` which is not available. Available metrics are: loss,accuracy,val_loss,val_accuracy\n",
      "23/23 [==============================] - 1s 23ms/step - loss: 3.7504e-04 - accuracy: 1.0000 - val_loss: 0.9873 - val_accuracy: 0.7375\n",
      "Epoch 55/100\n",
      "20/23 [=========================>....] - ETA: 0s - loss: 2.1741e-04 - accuracy: 1.0000WARNING:tensorflow:Early stopping conditioned on metric `value_loss` which is not available. Available metrics are: loss,accuracy,val_loss,val_accuracy\n",
      "23/23 [==============================] - 0s 17ms/step - loss: 2.2028e-04 - accuracy: 1.0000 - val_loss: 0.9863 - val_accuracy: 0.7375\n",
      "Epoch 56/100\n",
      "20/23 [=========================>....] - ETA: 0s - loss: 2.6094e-04 - accuracy: 1.0000WARNING:tensorflow:Early stopping conditioned on metric `value_loss` which is not available. Available metrics are: loss,accuracy,val_loss,val_accuracy\n",
      "23/23 [==============================] - 0s 17ms/step - loss: 2.5502e-04 - accuracy: 1.0000 - val_loss: 0.9912 - val_accuracy: 0.7375\n",
      "Epoch 57/100\n",
      "23/23 [==============================] - ETA: 0s - loss: 2.6430e-04 - accuracy: 1.0000WARNING:tensorflow:Early stopping conditioned on metric `value_loss` which is not available. Available metrics are: loss,accuracy,val_loss,val_accuracy\n",
      "23/23 [==============================] - 1s 24ms/step - loss: 2.6430e-04 - accuracy: 1.0000 - val_loss: 1.0205 - val_accuracy: 0.7375\n",
      "Epoch 58/100\n",
      "22/23 [===========================>..] - ETA: 0s - loss: 2.5497e-04 - accuracy: 1.0000WARNING:tensorflow:Early stopping conditioned on metric `value_loss` which is not available. Available metrics are: loss,accuracy,val_loss,val_accuracy\n",
      "23/23 [==============================] - 0s 18ms/step - loss: 2.5170e-04 - accuracy: 1.0000 - val_loss: 1.0473 - val_accuracy: 0.7250\n",
      "Epoch 59/100\n",
      "21/23 [==========================>...] - ETA: 0s - loss: 3.2734e-04 - accuracy: 1.0000WARNING:tensorflow:Early stopping conditioned on metric `value_loss` which is not available. Available metrics are: loss,accuracy,val_loss,val_accuracy\n",
      "23/23 [==============================] - 0s 16ms/step - loss: 3.1734e-04 - accuracy: 1.0000 - val_loss: 1.0807 - val_accuracy: 0.7250\n",
      "Epoch 60/100\n",
      "20/23 [=========================>....] - ETA: 0s - loss: 6.7083e-04 - accuracy: 1.0000WARNING:tensorflow:Early stopping conditioned on metric `value_loss` which is not available. Available metrics are: loss,accuracy,val_loss,val_accuracy\n",
      "23/23 [==============================] - 0s 17ms/step - loss: 6.1583e-04 - accuracy: 1.0000 - val_loss: 1.0036 - val_accuracy: 0.7375\n",
      "Epoch 61/100\n",
      "21/23 [==========================>...] - ETA: 0s - loss: 2.0968e-04 - accuracy: 1.0000WARNING:tensorflow:Early stopping conditioned on metric `value_loss` which is not available. Available metrics are: loss,accuracy,val_loss,val_accuracy\n",
      "23/23 [==============================] - 0s 18ms/step - loss: 2.0323e-04 - accuracy: 1.0000 - val_loss: 0.9972 - val_accuracy: 0.7375\n",
      "Epoch 62/100\n",
      "22/23 [===========================>..] - ETA: 0s - loss: 9.0306e-04 - accuracy: 1.0000WARNING:tensorflow:Early stopping conditioned on metric `value_loss` which is not available. Available metrics are: loss,accuracy,val_loss,val_accuracy\n",
      "23/23 [==============================] - 0s 20ms/step - loss: 8.8374e-04 - accuracy: 1.0000 - val_loss: 1.1485 - val_accuracy: 0.7125\n",
      "Epoch 63/100\n",
      "22/23 [===========================>..] - ETA: 0s - loss: 2.7733e-04 - accuracy: 1.0000WARNING:tensorflow:Early stopping conditioned on metric `value_loss` which is not available. Available metrics are: loss,accuracy,val_loss,val_accuracy\n",
      "23/23 [==============================] - 0s 17ms/step - loss: 2.7506e-04 - accuracy: 1.0000 - val_loss: 1.1851 - val_accuracy: 0.7000\n",
      "Epoch 64/100\n",
      "20/23 [=========================>....] - ETA: 0s - loss: 2.2750e-04 - accuracy: 1.0000WARNING:tensorflow:Early stopping conditioned on metric `value_loss` which is not available. Available metrics are: loss,accuracy,val_loss,val_accuracy\n",
      "23/23 [==============================] - 0s 15ms/step - loss: 2.3726e-04 - accuracy: 1.0000 - val_loss: 1.1845 - val_accuracy: 0.7000\n",
      "Epoch 65/100\n",
      "19/23 [=======================>......] - ETA: 0s - loss: 2.1990e-04 - accuracy: 1.0000WARNING:tensorflow:Early stopping conditioned on metric `value_loss` which is not available. Available metrics are: loss,accuracy,val_loss,val_accuracy\n",
      "23/23 [==============================] - 0s 16ms/step - loss: 2.2243e-04 - accuracy: 1.0000 - val_loss: 1.1723 - val_accuracy: 0.7125\n",
      "Epoch 66/100\n",
      "22/23 [===========================>..] - ETA: 0s - loss: 0.0010 - accuracy: 1.0000  WARNING:tensorflow:Early stopping conditioned on metric `value_loss` which is not available. Available metrics are: loss,accuracy,val_loss,val_accuracy\n",
      "23/23 [==============================] - 1s 23ms/step - loss: 9.9517e-04 - accuracy: 1.0000 - val_loss: 1.2233 - val_accuracy: 0.7000\n",
      "Epoch 67/100\n",
      "21/23 [==========================>...] - ETA: 0s - loss: 1.7939e-04 - accuracy: 1.0000WARNING:tensorflow:Early stopping conditioned on metric `value_loss` which is not available. Available metrics are: loss,accuracy,val_loss,val_accuracy\n",
      "23/23 [==============================] - 1s 24ms/step - loss: 1.9216e-04 - accuracy: 1.0000 - val_loss: 1.2521 - val_accuracy: 0.7000\n",
      "Epoch 68/100\n",
      "22/23 [===========================>..] - ETA: 0s - loss: 2.4250e-04 - accuracy: 1.0000WARNING:tensorflow:Early stopping conditioned on metric `value_loss` which is not available. Available metrics are: loss,accuracy,val_loss,val_accuracy\n",
      "23/23 [==============================] - 0s 16ms/step - loss: 2.3898e-04 - accuracy: 1.0000 - val_loss: 1.2191 - val_accuracy: 0.7000\n",
      "Epoch 69/100\n",
      "23/23 [==============================] - ETA: 0s - loss: 1.7365e-04 - accuracy: 1.0000WARNING:tensorflow:Early stopping conditioned on metric `value_loss` which is not available. Available metrics are: loss,accuracy,val_loss,val_accuracy\n",
      "23/23 [==============================] - 1s 22ms/step - loss: 1.7365e-04 - accuracy: 1.0000 - val_loss: 1.1944 - val_accuracy: 0.7125\n",
      "Epoch 70/100\n",
      "22/23 [===========================>..] - ETA: 0s - loss: 2.6528e-04 - accuracy: 1.0000WARNING:tensorflow:Early stopping conditioned on metric `value_loss` which is not available. Available metrics are: loss,accuracy,val_loss,val_accuracy\n",
      "23/23 [==============================] - 0s 20ms/step - loss: 2.6702e-04 - accuracy: 1.0000 - val_loss: 1.2255 - val_accuracy: 0.7000\n",
      "Epoch 71/100\n",
      "20/23 [=========================>....] - ETA: 0s - loss: 1.5665e-04 - accuracy: 1.0000WARNING:tensorflow:Early stopping conditioned on metric `value_loss` which is not available. Available metrics are: loss,accuracy,val_loss,val_accuracy\n",
      "23/23 [==============================] - 0s 19ms/step - loss: 1.5124e-04 - accuracy: 1.0000 - val_loss: 1.2137 - val_accuracy: 0.7000\n",
      "Epoch 72/100\n",
      "23/23 [==============================] - ETA: 0s - loss: 1.5304e-04 - accuracy: 1.0000WARNING:tensorflow:Early stopping conditioned on metric `value_loss` which is not available. Available metrics are: loss,accuracy,val_loss,val_accuracy\n",
      "23/23 [==============================] - 0s 17ms/step - loss: 1.5304e-04 - accuracy: 1.0000 - val_loss: 1.2030 - val_accuracy: 0.7125\n",
      "Epoch 73/100\n",
      "23/23 [==============================] - ETA: 0s - loss: 1.5471e-04 - accuracy: 1.0000WARNING:tensorflow:Early stopping conditioned on metric `value_loss` which is not available. Available metrics are: loss,accuracy,val_loss,val_accuracy\n",
      "23/23 [==============================] - 0s 16ms/step - loss: 1.5471e-04 - accuracy: 1.0000 - val_loss: 1.1944 - val_accuracy: 0.7125\n",
      "Epoch 74/100\n",
      "19/23 [=======================>......] - ETA: 0s - loss: 1.3589e-04 - accuracy: 1.0000WARNING:tensorflow:Early stopping conditioned on metric `value_loss` which is not available. Available metrics are: loss,accuracy,val_loss,val_accuracy\n",
      "23/23 [==============================] - 0s 19ms/step - loss: 1.4311e-04 - accuracy: 1.0000 - val_loss: 1.1932 - val_accuracy: 0.7125\n",
      "Epoch 75/100\n",
      "23/23 [==============================] - ETA: 0s - loss: 1.4004e-04 - accuracy: 1.0000WARNING:tensorflow:Early stopping conditioned on metric `value_loss` which is not available. Available metrics are: loss,accuracy,val_loss,val_accuracy\n",
      "23/23 [==============================] - 1s 24ms/step - loss: 1.4004e-04 - accuracy: 1.0000 - val_loss: 1.1947 - val_accuracy: 0.7125\n",
      "Epoch 76/100\n",
      "23/23 [==============================] - ETA: 0s - loss: 1.4087e-04 - accuracy: 1.0000WARNING:tensorflow:Early stopping conditioned on metric `value_loss` which is not available. Available metrics are: loss,accuracy,val_loss,val_accuracy\n",
      "23/23 [==============================] - 0s 16ms/step - loss: 1.4087e-04 - accuracy: 1.0000 - val_loss: 1.1993 - val_accuracy: 0.7125\n",
      "Epoch 77/100\n",
      "22/23 [===========================>..] - ETA: 0s - loss: 1.7487e-04 - accuracy: 1.0000WARNING:tensorflow:Early stopping conditioned on metric `value_loss` which is not available. Available metrics are: loss,accuracy,val_loss,val_accuracy\n",
      "23/23 [==============================] - 0s 17ms/step - loss: 1.7275e-04 - accuracy: 1.0000 - val_loss: 1.2040 - val_accuracy: 0.7125\n",
      "Epoch 78/100\n",
      "23/23 [==============================] - ETA: 0s - loss: 1.6321e-04 - accuracy: 1.0000WARNING:tensorflow:Early stopping conditioned on metric `value_loss` which is not available. Available metrics are: loss,accuracy,val_loss,val_accuracy\n",
      "23/23 [==============================] - 0s 17ms/step - loss: 1.6321e-04 - accuracy: 1.0000 - val_loss: 1.2003 - val_accuracy: 0.7125\n",
      "Epoch 79/100\n",
      "20/23 [=========================>....] - ETA: 0s - loss: 1.6404e-04 - accuracy: 1.0000WARNING:tensorflow:Early stopping conditioned on metric `value_loss` which is not available. Available metrics are: loss,accuracy,val_loss,val_accuracy\n",
      "23/23 [==============================] - 0s 19ms/step - loss: 1.8745e-04 - accuracy: 1.0000 - val_loss: 1.1942 - val_accuracy: 0.7250\n",
      "Epoch 80/100\n",
      "21/23 [==========================>...] - ETA: 0s - loss: 1.1569e-04 - accuracy: 1.0000WARNING:tensorflow:Early stopping conditioned on metric `value_loss` which is not available. Available metrics are: loss,accuracy,val_loss,val_accuracy\n",
      "23/23 [==============================] - 0s 16ms/step - loss: 1.2666e-04 - accuracy: 1.0000 - val_loss: 1.1883 - val_accuracy: 0.7250\n",
      "Epoch 81/100\n",
      "23/23 [==============================] - ETA: 0s - loss: 9.1144e-05 - accuracy: 1.0000WARNING:tensorflow:Early stopping conditioned on metric `value_loss` which is not available. Available metrics are: loss,accuracy,val_loss,val_accuracy\n",
      "23/23 [==============================] - 0s 16ms/step - loss: 9.1144e-05 - accuracy: 1.0000 - val_loss: 1.1904 - val_accuracy: 0.7250\n",
      "Epoch 82/100\n",
      "20/23 [=========================>....] - ETA: 0s - loss: 1.0564e-04 - accuracy: 1.0000WARNING:tensorflow:Early stopping conditioned on metric `value_loss` which is not available. Available metrics are: loss,accuracy,val_loss,val_accuracy\n",
      "23/23 [==============================] - 0s 16ms/step - loss: 1.0775e-04 - accuracy: 1.0000 - val_loss: 1.1917 - val_accuracy: 0.7250\n",
      "Epoch 83/100\n",
      "22/23 [===========================>..] - ETA: 0s - loss: 1.5744e-04 - accuracy: 1.0000WARNING:tensorflow:Early stopping conditioned on metric `value_loss` which is not available. Available metrics are: loss,accuracy,val_loss,val_accuracy\n",
      "23/23 [==============================] - 1s 26ms/step - loss: 1.5439e-04 - accuracy: 1.0000 - val_loss: 1.1873 - val_accuracy: 0.7250\n",
      "Epoch 84/100\n",
      "22/23 [===========================>..] - ETA: 0s - loss: 2.6675e-04 - accuracy: 1.0000WARNING:tensorflow:Early stopping conditioned on metric `value_loss` which is not available. Available metrics are: loss,accuracy,val_loss,val_accuracy\n",
      "23/23 [==============================] - 0s 17ms/step - loss: 2.6149e-04 - accuracy: 1.0000 - val_loss: 1.2411 - val_accuracy: 0.7250\n",
      "Epoch 85/100\n",
      "23/23 [==============================] - ETA: 0s - loss: 2.0867e-04 - accuracy: 1.0000WARNING:tensorflow:Early stopping conditioned on metric `value_loss` which is not available. Available metrics are: loss,accuracy,val_loss,val_accuracy\n",
      "23/23 [==============================] - 0s 15ms/step - loss: 2.0867e-04 - accuracy: 1.0000 - val_loss: 1.2374 - val_accuracy: 0.7250\n",
      "Epoch 86/100\n",
      "22/23 [===========================>..] - ETA: 0s - loss: 2.0350e-04 - accuracy: 1.0000WARNING:tensorflow:Early stopping conditioned on metric `value_loss` which is not available. Available metrics are: loss,accuracy,val_loss,val_accuracy\n",
      "23/23 [==============================] - 0s 16ms/step - loss: 1.9958e-04 - accuracy: 1.0000 - val_loss: 1.2443 - val_accuracy: 0.7250\n",
      "Epoch 87/100\n",
      "21/23 [==========================>...] - ETA: 0s - loss: 2.2243e-04 - accuracy: 1.0000WARNING:tensorflow:Early stopping conditioned on metric `value_loss` which is not available. Available metrics are: loss,accuracy,val_loss,val_accuracy\n",
      "23/23 [==============================] - 0s 19ms/step - loss: 2.2752e-04 - accuracy: 1.0000 - val_loss: 1.2872 - val_accuracy: 0.7125\n",
      "Epoch 88/100\n",
      "20/23 [=========================>....] - ETA: 0s - loss: 8.9570e-05 - accuracy: 1.0000WARNING:tensorflow:Early stopping conditioned on metric `value_loss` which is not available. Available metrics are: loss,accuracy,val_loss,val_accuracy\n",
      "23/23 [==============================] - 0s 15ms/step - loss: 1.0561e-04 - accuracy: 1.0000 - val_loss: 1.3046 - val_accuracy: 0.7125\n",
      "Epoch 89/100\n",
      "23/23 [==============================] - ETA: 0s - loss: 8.3659e-05 - accuracy: 1.0000WARNING:tensorflow:Early stopping conditioned on metric `value_loss` which is not available. Available metrics are: loss,accuracy,val_loss,val_accuracy\n",
      "23/23 [==============================] - 0s 16ms/step - loss: 8.3659e-05 - accuracy: 1.0000 - val_loss: 1.2945 - val_accuracy: 0.7125\n",
      "Epoch 90/100\n",
      "22/23 [===========================>..] - ETA: 0s - loss: 9.6009e-05 - accuracy: 1.0000WARNING:tensorflow:Early stopping conditioned on metric `value_loss` which is not available. Available metrics are: loss,accuracy,val_loss,val_accuracy\n",
      "23/23 [==============================] - 0s 16ms/step - loss: 9.4328e-05 - accuracy: 1.0000 - val_loss: 1.2834 - val_accuracy: 0.7125\n",
      "Epoch 91/100\n",
      "23/23 [==============================] - ETA: 0s - loss: 9.2441e-05 - accuracy: 1.0000WARNING:tensorflow:Early stopping conditioned on metric `value_loss` which is not available. Available metrics are: loss,accuracy,val_loss,val_accuracy\n",
      "23/23 [==============================] - 1s 26ms/step - loss: 9.2441e-05 - accuracy: 1.0000 - val_loss: 1.2689 - val_accuracy: 0.7125\n",
      "Epoch 92/100\n",
      "19/23 [=======================>......] - ETA: 0s - loss: 8.7041e-05 - accuracy: 1.0000WARNING:tensorflow:Early stopping conditioned on metric `value_loss` which is not available. Available metrics are: loss,accuracy,val_loss,val_accuracy\n",
      "23/23 [==============================] - 0s 15ms/step - loss: 9.1793e-05 - accuracy: 1.0000 - val_loss: 1.2567 - val_accuracy: 0.7250\n",
      "Epoch 93/100\n",
      "20/23 [=========================>....] - ETA: 0s - loss: 8.2121e-05 - accuracy: 1.0000WARNING:tensorflow:Early stopping conditioned on metric `value_loss` which is not available. Available metrics are: loss,accuracy,val_loss,val_accuracy\n",
      "23/23 [==============================] - 0s 15ms/step - loss: 9.4994e-05 - accuracy: 1.0000 - val_loss: 1.2500 - val_accuracy: 0.7250\n",
      "Epoch 94/100\n",
      "20/23 [=========================>....] - ETA: 0s - loss: 1.0990e-04 - accuracy: 1.0000WARNING:tensorflow:Early stopping conditioned on metric `value_loss` which is not available. Available metrics are: loss,accuracy,val_loss,val_accuracy\n",
      "23/23 [==============================] - 0s 16ms/step - loss: 1.0730e-04 - accuracy: 1.0000 - val_loss: 1.2486 - val_accuracy: 0.7250\n",
      "Epoch 95/100\n",
      "22/23 [===========================>..] - ETA: 0s - loss: 1.2115e-04 - accuracy: 1.0000WARNING:tensorflow:Early stopping conditioned on metric `value_loss` which is not available. Available metrics are: loss,accuracy,val_loss,val_accuracy\n",
      "23/23 [==============================] - 0s 18ms/step - loss: 1.1941e-04 - accuracy: 1.0000 - val_loss: 1.2556 - val_accuracy: 0.7250\n",
      "Epoch 96/100\n",
      "19/23 [=======================>......] - ETA: 0s - loss: 6.0787e-05 - accuracy: 1.0000WARNING:tensorflow:Early stopping conditioned on metric `value_loss` which is not available. Available metrics are: loss,accuracy,val_loss,val_accuracy\n",
      "23/23 [==============================] - 0s 16ms/step - loss: 6.8547e-05 - accuracy: 1.0000 - val_loss: 1.2641 - val_accuracy: 0.7250\n",
      "Epoch 97/100\n",
      "23/23 [==============================] - ETA: 0s - loss: 8.9839e-05 - accuracy: 1.0000WARNING:tensorflow:Early stopping conditioned on metric `value_loss` which is not available. Available metrics are: loss,accuracy,val_loss,val_accuracy\n",
      "23/23 [==============================] - 0s 17ms/step - loss: 8.9839e-05 - accuracy: 1.0000 - val_loss: 1.2718 - val_accuracy: 0.7250\n",
      "Epoch 98/100\n",
      "19/23 [=======================>......] - ETA: 0s - loss: 1.1891e-04 - accuracy: 1.0000WARNING:tensorflow:Early stopping conditioned on metric `value_loss` which is not available. Available metrics are: loss,accuracy,val_loss,val_accuracy\n",
      "23/23 [==============================] - 0s 15ms/step - loss: 1.1034e-04 - accuracy: 1.0000 - val_loss: 1.2809 - val_accuracy: 0.7250\n",
      "Epoch 99/100\n",
      "19/23 [=======================>......] - ETA: 0s - loss: 1.4236e-04 - accuracy: 1.0000WARNING:tensorflow:Early stopping conditioned on metric `value_loss` which is not available. Available metrics are: loss,accuracy,val_loss,val_accuracy\n",
      "23/23 [==============================] - 0s 16ms/step - loss: 1.3467e-04 - accuracy: 1.0000 - val_loss: 1.2591 - val_accuracy: 0.7250\n",
      "Epoch 100/100\n",
      "19/23 [=======================>......] - ETA: 0s - loss: 7.4843e-05 - accuracy: 1.0000WARNING:tensorflow:Early stopping conditioned on metric `value_loss` which is not available. Available metrics are: loss,accuracy,val_loss,val_accuracy\n",
      "23/23 [==============================] - 1s 22ms/step - loss: 7.0285e-05 - accuracy: 1.0000 - val_loss: 1.2573 - val_accuracy: 0.7250\n"
     ]
    }
   ],
   "source": [
    "hist = model.fit(xtrain,ytrain, validation_split=0.1,\n",
    "                 epochs=100, callbacks=[es])"
   ]
  },
  {
   "cell_type": "markdown",
   "metadata": {},
   "source": [
    "### EVALUATE THE MODEL"
   ]
  },
  {
   "cell_type": "code",
   "execution_count": 32,
   "metadata": {},
   "outputs": [
    {
     "name": "stdout",
     "output_type": "stream",
     "text": [
      "25/25 [==============================] - 1s 22ms/step - loss: 0.1257 - accuracy: 0.9725\n"
     ]
    },
    {
     "data": {
      "text/plain": [
       "[0.12573276460170746, 0.9725000262260437]"
      ]
     },
     "execution_count": 32,
     "metadata": {},
     "output_type": "execute_result"
    }
   ],
   "source": [
    "model.evaluate(xtrain, ytrain)"
   ]
  },
  {
   "cell_type": "code",
   "execution_count": 33,
   "metadata": {},
   "outputs": [
    {
     "name": "stdout",
     "output_type": "stream",
     "text": [
      "7/7 [==============================] - 0s 12ms/step - loss: 0.8758 - accuracy: 0.8000\n"
     ]
    },
    {
     "data": {
      "text/plain": [
       "[0.875836968421936, 0.800000011920929]"
      ]
     },
     "execution_count": 33,
     "metadata": {},
     "output_type": "execute_result"
    }
   ],
   "source": [
    "model.evaluate(xtest, ytest)"
   ]
  },
  {
   "cell_type": "markdown",
   "metadata": {},
   "source": [
    "### PREDICTING THE PROBABILITY"
   ]
  },
  {
   "cell_type": "code",
   "execution_count": 35,
   "metadata": {},
   "outputs": [
    {
     "name": "stdout",
     "output_type": "stream",
     "text": [
      "25/25 [==============================] - 1s 15ms/step\n",
      "7/7 [==============================] - 0s 7ms/step\n"
     ]
    }
   ],
   "source": [
    "yprob_train = model.predict(xtrain)\n",
    "yprob_test = model.predict(xtest)"
   ]
  },
  {
   "cell_type": "code",
   "execution_count": 36,
   "metadata": {},
   "outputs": [
    {
     "data": {
      "text/plain": [
       "array([[9.999678e-01],\n",
       "       [9.999998e-01],\n",
       "       [1.000000e+00],\n",
       "       [7.632337e-08],\n",
       "       [6.312765e-07]], dtype=float32)"
      ]
     },
     "execution_count": 36,
     "metadata": {},
     "output_type": "execute_result"
    }
   ],
   "source": [
    "yprob_train[0:5]"
   ]
  },
  {
   "cell_type": "code",
   "execution_count": 37,
   "metadata": {},
   "outputs": [
    {
     "data": {
      "text/plain": [
       "array([[8.9132749e-03],\n",
       "       [3.3770252e-07],\n",
       "       [9.9992055e-01],\n",
       "       [9.9999946e-01],\n",
       "       [9.9999988e-01]], dtype=float32)"
      ]
     },
     "execution_count": 37,
     "metadata": {},
     "output_type": "execute_result"
    }
   ],
   "source": [
    "yprob_test[0:5]"
   ]
  },
  {
   "cell_type": "markdown",
   "metadata": {},
   "source": [
    "### PREDICTING THE RESULTS"
   ]
  },
  {
   "cell_type": "code",
   "execution_count": 41,
   "metadata": {},
   "outputs": [],
   "source": [
    "ypred_train = [1 if prob>=0.5 else 0 for prob in yprob_train]\n",
    "ypred_test = [1 if prob>=0.5 else 0 for prob in yprob_test]"
   ]
  },
  {
   "cell_type": "code",
   "execution_count": 42,
   "metadata": {},
   "outputs": [
    {
     "data": {
      "text/plain": [
       "[1, 1, 1, 0, 0]"
      ]
     },
     "execution_count": 42,
     "metadata": {},
     "output_type": "execute_result"
    }
   ],
   "source": [
    "ypred_train[0:5]"
   ]
  },
  {
   "cell_type": "code",
   "execution_count": 43,
   "metadata": {},
   "outputs": [
    {
     "data": {
      "text/plain": [
       "108    1\n",
       "134    1\n",
       "585    1\n",
       "42     0\n",
       "990    0\n",
       "Name: Liked, dtype: int64"
      ]
     },
     "execution_count": 43,
     "metadata": {},
     "output_type": "execute_result"
    }
   ],
   "source": [
    "ytrain[0:5]"
   ]
  },
  {
   "cell_type": "code",
   "execution_count": 44,
   "metadata": {},
   "outputs": [
    {
     "data": {
      "text/plain": [
       "[0, 0, 1, 1, 1]"
      ]
     },
     "execution_count": 44,
     "metadata": {},
     "output_type": "execute_result"
    }
   ],
   "source": [
    "ypred_test[0:5]"
   ]
  },
  {
   "cell_type": "code",
   "execution_count": 45,
   "metadata": {},
   "outputs": [
    {
     "data": {
      "text/plain": [
       "492    0\n",
       "383    0\n",
       "856    1\n",
       "834    1\n",
       "603    1\n",
       "Name: Liked, dtype: int64"
      ]
     },
     "execution_count": 45,
     "metadata": {},
     "output_type": "execute_result"
    }
   ],
   "source": [
    "ytest[0:5]"
   ]
  },
  {
   "cell_type": "markdown",
   "metadata": {},
   "source": [
    "### PLOTTING THE CONFUSION MATRIX"
   ]
  },
  {
   "cell_type": "code",
   "execution_count": 47,
   "metadata": {},
   "outputs": [
    {
     "data": {
      "text/plain": [
       "<sklearn.metrics._plot.confusion_matrix.ConfusionMatrixDisplay at 0x19af3b80850>"
      ]
     },
     "execution_count": 47,
     "metadata": {},
     "output_type": "execute_result"
    },
    {
     "data": {
      "image/png": "[encoded data removed]",
      "text/plain": [
       "<Figure size 640x480 with 2 Axes>"
      ]
     },
     "metadata": {},
     "output_type": "display_data"
    }
   ],
   "source": [
    "from sklearn.metrics import confusion_matrix, ConfusionMatrixDisplay\n",
    "cf = confusion_matrix(ytest, ypred_test)\n",
    "cfd = ConfusionMatrixDisplay(cf)\n",
    "cfd.plot()"
   ]
  },
  {
   "cell_type": "markdown",
   "metadata": {},
   "source": [
    "### PRINTING THE CLASSIFICATION REPORT"
   ]
  },
  {
   "cell_type": "code",
   "execution_count": 48,
   "metadata": {},
   "outputs": [
    {
     "name": "stdout",
     "output_type": "stream",
     "text": [
      "              precision    recall  f1-score   support\n",
      "\n",
      "           0       0.85      0.74      0.79       102\n",
      "           1       0.76      0.87      0.81        98\n",
      "\n",
      "    accuracy                           0.80       200\n",
      "   macro avg       0.81      0.80      0.80       200\n",
      "weighted avg       0.81      0.80      0.80       200\n",
      "\n"
     ]
    }
   ],
   "source": [
    "from sklearn.metrics import classification_report\n",
    "print(classification_report(ytest, ypred_test))"
   ]
  },
  {
   "cell_type": "markdown",
   "metadata": {},
   "source": [
    "### PREDICTING THE USER DEFINED SENTIMENTS"
   ]
  },
  {
   "cell_type": "code",
   "execution_count": 51,
   "metadata": {},
   "outputs": [],
   "source": [
    "def predict_sentiment(model, tf):\n",
    "    st = input('PLEASE ENTER THE REVIEW : ')\n",
    "    st2 = preprocess_text(st)\n",
    "    xnew = tf.transform([st2]).toarray()\n",
    "    prob = model.predict([xnew])\n",
    "\n",
    "    print(f'PROBABILITY THAT STATEMENT IS POSITIVE : {prob}')\n",
    "    if prob>=0.5:\n",
    "        print(' THE GIVEN REVIEW IS POSITIVE')\n",
    "    else :\n",
    "        print('THE GIVEN REVIEW IS NEGATIVE')"
   ]
  },
  {
   "cell_type": "code",
   "execution_count": 52,
   "metadata": {},
   "outputs": [
    {
     "name": "stdout",
     "output_type": "stream",
     "text": [
      "1/1 [==============================] - 0s 104ms/step\n",
      "PROBABILITY THAT STATEMENT IS POSITIVE : [[0.9106735]]\n",
      " THE GIVEN REVIEW IS POSITIVE\n"
     ]
    }
   ],
   "source": [
    "predict_sentiment(model, tf)"
   ]
  },
  {
   "cell_type": "markdown",
   "metadata": {},
   "source": [
    "### SAVING THE MODEL FOR FUTURE USE"
   ]
  },
  {
   "cell_type": "code",
   "execution_count": 53,
   "metadata": {},
   "outputs": [],
   "source": [
    "model.save('SENTIMENT MODEL.keras')"
   ]
  },
  {
   "cell_type": "markdown",
   "metadata": {},
   "source": [
    "### LOADING THE MODEL FOR FUTURE USE"
   ]
  },
  {
   "cell_type": "code",
   "execution_count": 54,
   "metadata": {},
   "outputs": [
    {
     "name": "stdout",
     "output_type": "stream",
     "text": [
      "Model: \"sequential_2\"\n",
      "_________________________________________________________________\n",
      " Layer (type)                Output Shape              Param #   \n",
      "=================================================================\n",
      " dense_3 (Dense)             (None, 128)               262016    \n",
      "                                                                 \n",
      " dropout_2 (Dropout)         (None, 128)               0         \n",
      "                                                                 \n",
      " dense_4 (Dense)             (None, 64)                8256      \n",
      "                                                                 \n",
      " dropout_3 (Dropout)         (None, 64)                0         \n",
      "                                                                 \n",
      " dense_5 (Dense)             (None, 1)                 65        \n",
      "                                                                 \n",
      "=================================================================\n",
      "Total params: 270337 (1.03 MB)\n",
      "Trainable params: 270337 (1.03 MB)\n",
      "Non-trainable params: 0 (0.00 Byte)\n",
      "_________________________________________________________________\n"
     ]
    }
   ],
   "source": [
    "from keras.models import load_model\n",
    "m = load_model(\"SENTIMENT MODEL.keras\")\n",
    "m.summary()"
   ]
  }
 ],
 "metadata": {
  "kernelspec": {
   "display_name": "venv",
   "language": "python",
   "name": "python3"
  },
  "language_info": {
   "codemirror_mode": {
    "name": "ipython",
    "version": 3
   },
   "file_extension": ".py",
   "mimetype": "text/x-python",
   "name": "python",
   "nbconvert_exporter": "python",
   "pygments_lexer": "ipython3",
   "version": "3.11.0"
  }
 },
 "nbformat": 4,
 "nbformat_minor": 2
}
